{
 "cells": [
  {
   "cell_type": "markdown",
   "metadata": {},
   "source": [
    "# Table of Contents\n",
    "\n",
    "- [check key exist](#check-key-exist)\n",
    "- [concatenate](#concatenate) (See Again)\n",
    "- [iterate over dictionary](#iterate-over-dictionary)\n",
    "- [sort](#sort) (See Again)\n",
    "- [square](#square)\n",
    "- [sum of all items](#sum-of-all-items)"
   ]
  },
  {
   "cell_type": "markdown",
   "metadata": {},
   "source": [
    "## check key exist"
   ]
  },
  {
   "cell_type": "code",
   "execution_count": null,
   "metadata": {},
   "outputs": [],
   "source": [
    "# Problem\n",
    "\n",
    "# Check if a given key already exists in a dictionary\n",
    "\n",
    "# input\n",
    "# d = {1: 10, 2: 20, 3: 30, 4: 40, 5: 50, 6: 60}\n",
    "# is_key_present(5)\n",
    "# is_key_present(9)\n",
    "\n",
    "# output\n",
    "# Key is present in the dictionary                                                                              \n",
    "# Key is not present in the dictionary"
   ]
  },
  {
   "cell_type": "code",
   "execution_count": 11,
   "metadata": {},
   "outputs": [
    {
     "name": "stdout",
     "output_type": "stream",
     "text": [
      "Key is present in the dictionary\n",
      "Key is not present in the dictionary\n"
     ]
    }
   ],
   "source": [
    "# Solution\n",
    "\n",
    "def is_key_present(key):\n",
    "    if key in d.keys():\n",
    "        return \"Key is present in the dictionary\"\n",
    "    else:\n",
    "        return \"Key is not present in the dictionary\"\n",
    "\n",
    "d = {1: 10, 2: 20, 3: 30, 4: 40, 5: 50, 6: 60}\n",
    "\n",
    "print(is_key_present(5))\n",
    "print(is_key_present(11))"
   ]
  },
  {
   "cell_type": "markdown",
   "metadata": {},
   "source": [
    "## concatenate"
   ]
  },
  {
   "cell_type": "code",
   "execution_count": null,
   "metadata": {},
   "outputs": [],
   "source": [
    "# Problem\n",
    "\n",
    "# Write a Python script to concatenate following dictionaries to create a new one\n",
    "\n",
    "# Input\n",
    "# dic1={1:10, 2:20}\n",
    "# dic2={3:30, 4:40}\n",
    "# dic3={5:50,6:60}\n",
    "\n",
    "# Output\n",
    "# {1: 10, 2: 20, 3: 30, 4: 40, 5: 50, 6: 60}"
   ]
  },
  {
   "cell_type": "code",
   "execution_count": 4,
   "metadata": {},
   "outputs": [
    {
     "name": "stdout",
     "output_type": "stream",
     "text": [
      "{1: 10, 2: 20, 3: 30, 4: 40, 5: 50, 6: 60}\n"
     ]
    }
   ],
   "source": [
    "# Solution\n",
    "\n",
    "dic1={1:10, 2:20}\n",
    "dic2={3:30, 4:40}\n",
    "dic3={5:50,6:60}\n",
    "\n",
    "dic4 = dict()\n",
    "for d in (dic1, dic2, dic3):\n",
    "    dic4.update(d)\n",
    "    \n",
    "print(dic4)"
   ]
  },
  {
   "cell_type": "markdown",
   "metadata": {},
   "source": [
    "## iterate over dictionary"
   ]
  },
  {
   "cell_type": "code",
   "execution_count": null,
   "metadata": {},
   "outputs": [],
   "source": [
    "# Problem\n",
    "\n",
    "# Write a Python program to iterate over dictionaries using for loops."
   ]
  },
  {
   "cell_type": "code",
   "execution_count": 5,
   "metadata": {},
   "outputs": [
    {
     "name": "stdout",
     "output_type": "stream",
     "text": [
      "1 -> 10\n",
      "2 -> 20\n",
      "3 -> 30\n",
      "4 -> 40\n",
      "5 -> 50\n",
      "6 -> 60\n"
     ]
    }
   ],
   "source": [
    "# Solution\n",
    "\n",
    "dic1 = {1: 10, 2: 20, 3: 30, 4: 40, 5: 50, 6: 60}\n",
    "\n",
    "for key, value in dic1.items():\n",
    "    print('{} -> {}'.format(key, value))"
   ]
  },
  {
   "cell_type": "markdown",
   "metadata": {},
   "source": [
    "## sort"
   ]
  },
  {
   "cell_type": "code",
   "execution_count": null,
   "metadata": {},
   "outputs": [],
   "source": [
    "# Problem\n",
    "\n",
    "# Write a Python program to sort (ascending and descending) a dictionary by value.\n",
    "# Original dictionary :  {0: 0, 1: 2, 2: 1, 3: 4, 4: 3}                                                         \n",
    "# Dictionary in ascending order by value :  [(0, 0), (1, 2), (2, 1), (3, 4), (4, 3)]                            \n",
    "# Dictionary in descending order by value :  [(4, 3), (3, 4), (2, 1), (1, 2), (0, 0)]"
   ]
  },
  {
   "cell_type": "code",
   "execution_count": 21,
   "metadata": {},
   "outputs": [
    {
     "name": "stdout",
     "output_type": "stream",
     "text": [
      "Ascending by Value:\t [(0, 0), (2, 1), (1, 2), (4, 3), (3, 4)]\n",
      "Descending by Value:\t [(3, 4), (4, 3), (1, 2), (2, 1), (0, 0)]\n",
      "Ascending by Key:\t [(0, 0), (1, 2), (2, 1), (3, 4), (4, 3)]\n",
      "Descending by Key:\t [(4, 3), (3, 4), (2, 1), (1, 2), (0, 0)]\n"
     ]
    }
   ],
   "source": [
    "# Solution\n",
    "\n",
    "import operator\n",
    "\n",
    "d = {0: 0, 1: 2, 2: 1, 3: 4, 4: 3}\n",
    "asc_by_value = sorted(d.items(), key = operator.itemgetter(1))\n",
    "desc_by_value = sorted(d.items(), key = operator.itemgetter(1), reverse = True)\n",
    "\n",
    "asc_by_key = sorted(d.items(), key = operator.itemgetter(0))\n",
    "desc_by_key = sorted(d.items(), key = operator.itemgetter(0), reverse = True)\n",
    "\n",
    "print(\"Ascending by Value:\\t\", asc_by_value)\n",
    "print(\"Descending by Value:\\t\", desc_by_value)\n",
    "print(\"Ascending by Key:\\t\", asc_by_key)\n",
    "print(\"Descending by Key:\\t\", desc_by_key)"
   ]
  },
  {
   "cell_type": "markdown",
   "metadata": {},
   "source": [
    "## square"
   ]
  },
  {
   "cell_type": "code",
   "execution_count": null,
   "metadata": {},
   "outputs": [],
   "source": [
    "# Problem\n",
    "\n",
    "# Write a Python script to print a dictionary where the keys are numbers between 1 and 15 (both included) \n",
    "# and the values are square of keys."
   ]
  },
  {
   "cell_type": "code",
   "execution_count": null,
   "metadata": {},
   "outputs": [],
   "source": [
    "# Solution\n",
    "\n"
   ]
  },
  {
   "cell_type": "markdown",
   "metadata": {},
   "source": [
    "## sum of all items"
   ]
  },
  {
   "cell_type": "code",
   "execution_count": null,
   "metadata": {},
   "outputs": [],
   "source": [
    "# Problem\n",
    "\n",
    "# Sum all the items in a dictionary\n",
    "# Input {'data1':100,'data2':-54,'data3':247}\n",
    "# Output 293"
   ]
  },
  {
   "cell_type": "code",
   "execution_count": null,
   "metadata": {},
   "outputs": [],
   "source": [
    "# Solution\n",
    "\n"
   ]
  },
  {
   "cell_type": "markdown",
   "metadata": {},
   "source": [
    "### [Move to Top](#Table-of-Contents)"
   ]
  },
  {
   "cell_type": "markdown",
   "metadata": {},
   "source": [
    "## <center> The End </center>"
   ]
  }
 ],
 "metadata": {
  "kernelspec": {
   "display_name": "Python 3",
   "language": "python",
   "name": "python3"
  },
  "language_info": {
   "codemirror_mode": {
    "name": "ipython",
    "version": 3
   },
   "file_extension": ".py",
   "mimetype": "text/x-python",
   "name": "python",
   "nbconvert_exporter": "python",
   "pygments_lexer": "ipython3",
   "version": "3.7.3"
  }
 },
 "nbformat": 4,
 "nbformat_minor": 2
}
