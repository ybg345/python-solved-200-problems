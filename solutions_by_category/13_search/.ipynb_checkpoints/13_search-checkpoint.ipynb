{
 "cells": [
  {
   "cell_type": "markdown",
   "metadata": {},
   "source": [
    "# Table of Contents - Search\n",
    "\n",
    "- [sequential search](#sequential-search)\n",
    "- [binary search implement](#binary-search-implement)"
   ]
  },
  {
   "cell_type": "markdown",
   "metadata": {},
   "source": [
    "## sequential search"
   ]
  },
  {
   "cell_type": "code",
   "execution_count": null,
   "metadata": {},
   "outputs": [],
   "source": [
    "# Problem\n",
    "\n",
    "# Write a Python program for sequential search."
   ]
  },
  {
   "cell_type": "markdown",
   "metadata": {},
   "source": [
    "### Sequential Search: \n",
    "In computer science, linear search or sequential search is a method for finding a particular value in a list that checks each element in sequence until the desired element is found or the list is exhausted. \n",
    "\n",
    "The list need not be ordered."
   ]
  },
  {
   "cell_type": "markdown",
   "metadata": {},
   "source": [
    "![Tutorial's Point Demo](https://www.tutorialspoint.com/data_structures_algorithms/images/linear_search.gif)"
   ]
  },
  {
   "cell_type": "code",
   "execution_count": 15,
   "metadata": {},
   "outputs": [
    {
     "name": "stdout",
     "output_type": "stream",
     "text": [
      "(True, 6)\n",
      "(True, 3)\n"
     ]
    }
   ],
   "source": [
    "# Solution\n",
    "\n",
    "def sequential_search(arr, item):\n",
    "    pos = 0\n",
    "    found = False\n",
    "    \n",
    "    while pos < len(arr) and not found:\n",
    "        if arr[pos] == item:\n",
    "            found = True\n",
    "        else:\n",
    "            pos += 1\n",
    "            \n",
    "    return found, pos\n",
    "\n",
    "print(sequential_search([10, 14, 19, 26, 27, 31, 33, 35, 42, 44], 33))\n",
    "print(sequential_search([11, 23, 58, 31, 56, 77, 43, 12, 65, 19], 31))"
   ]
  },
  {
   "cell_type": "markdown",
   "metadata": {},
   "source": [
    "## binary search implement"
   ]
  },
  {
   "cell_type": "code",
   "execution_count": null,
   "metadata": {},
   "outputs": [],
   "source": [
    "# Problem\n",
    "\n",
    "# Write a Python program for binary search."
   ]
  },
  {
   "cell_type": "markdown",
   "metadata": {},
   "source": [
    "<img src=\"https://www.geeksforgeeks.org/wp-content/uploads/Binary-Search.png\" width = \"500\" height = \"50\"></img>"
   ]
  },
  {
   "cell_type": "markdown",
   "metadata": {},
   "source": [
    "### Binary Search : \n",
    "In computer science, a binary search or half-interval search algorithm finds the position of a target value within a sorted array. \n",
    "The binary search algorithm can be classified as a dichotomies divide-and-conquer search algorithm and executes in logarithmic time.\n",
    "\n",
    "### Algorithm\n",
    "\n",
    "We basically ignored half of the elements just after one comparison.\n",
    "\n",
    "- Compare item with the middle element.\n",
    "- If item matches with middle element, we return the mid index.\n",
    "- Else if item is greater than the mid element, then item can only lie in right half subarray after the mid element. \n",
    "- Else (item is smaller than mid) then then item can only lie in left half subarray before the mid element."
   ]
  },
  {
   "cell_type": "code",
   "execution_count": 34,
   "metadata": {},
   "outputs": [
    {
     "name": "stdout",
     "output_type": "stream",
     "text": [
      "Not Found\n",
      "Searched item \"5\" is present at index \"3\"\n",
      "Searched item \"23\" is present at index \"5\"\n"
     ]
    }
   ],
   "source": [
    "def binary_search(arr, item):\n",
    "    left = 0\n",
    "    right = len(arr) - 1\n",
    "    found = False\n",
    "    \n",
    "    while left <= right:\n",
    "        mid = (left + right) // 2\n",
    "        \n",
    "        if item == arr[mid]:      # Checking first, if search item is present at the mid  \n",
    "            found = True\n",
    "            return ('Searched item \"{}\" is present at index \"{}\"'.format(item, mid))\n",
    "        \n",
    "        elif item > arr[mid]:     # If search item is greater than mid value then we can ignore the left subarray\n",
    "            left = mid + 1\n",
    "            \n",
    "        else:                     # If search item is smaller than mid value then we can ignore the right subarray\n",
    "            right = mid - 1\n",
    "    \n",
    "    if not found:\n",
    "        return 'Not Found'\n",
    "    \n",
    "    \n",
    "print(binary_search([1, 2, 3, 5, 8], 6))\n",
    "print(binary_search([1, 2, 3, 5, 8], 5))\n",
    "print(binary_search([2, 5, 8, 12, 16, 23, 38, 56, 72, 91], 23))"
   ]
  },
  {
   "cell_type": "markdown",
   "metadata": {},
   "source": [
    "### [Move to Top](#Table-of-Contents---Search)"
   ]
  },
  {
   "cell_type": "markdown",
   "metadata": {},
   "source": [
    "### <center> The End </center>"
   ]
  }
 ],
 "metadata": {
  "kernelspec": {
   "display_name": "Python 3",
   "language": "python",
   "name": "python3"
  },
  "language_info": {
   "codemirror_mode": {
    "name": "ipython",
    "version": 3
   },
   "file_extension": ".py",
   "mimetype": "text/x-python",
   "name": "python",
   "nbconvert_exporter": "python",
   "pygments_lexer": "ipython3",
   "version": "3.7.3"
  }
 },
 "nbformat": 4,
 "nbformat_minor": 2
}
