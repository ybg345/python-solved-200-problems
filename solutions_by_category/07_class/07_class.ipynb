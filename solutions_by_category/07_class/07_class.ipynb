{
 "cells": [
  {
   "cell_type": "markdown",
   "metadata": {},
   "source": [
    "# Table of Contents - Class\n",
    "\n",
    "- [check parentheses](#check-parentheses) &nbsp;&nbsp;&nbsp;&nbsp;&nbsp;(See Again + Difficult)\n",
    "- [circle](#circle)\n",
    "- [convert to int](#convert-to-int) &nbsp;&nbsp;&nbsp;&nbsp;&nbsp;&nbsp;&nbsp;&nbsp;&nbsp;&nbsp;&nbsp;&nbsp;&nbsp; (See Again + Difficult)\n",
    "- [convert to roman](#convert-to-roman) &nbsp;&nbsp;&nbsp;&nbsp;&nbsp;&nbsp;&nbsp; (See Again + Difficult)\n",
    "- [get and print](#get-and-print)\n",
    "- [rectange](#rectange)\n",
    "- [revert word](#revert-word)\n",
    "- [sum zero](#sum-zero)"
   ]
  },
  {
   "cell_type": "markdown",
   "metadata": {},
   "source": [
    "## check parentheses"
   ]
  },
  {
   "cell_type": "code",
   "execution_count": null,
   "metadata": {},
   "outputs": [],
   "source": [
    "# Problem\n",
    "\n",
    "# Write a Python program to find validity of a string of parentheses, '(', ')', '{', '}', '[' and ']. \n",
    "# These brackets must be close in the correct order, \n",
    "# for example \"()\" and \"()[]{}\" are valid but \"[)\", \"({[)]\" and \"{‌{‌{\" are invalid."
   ]
  },
  {
   "cell_type": "code",
   "execution_count": 12,
   "metadata": {},
   "outputs": [
    {
     "name": "stdout",
     "output_type": "stream",
     "text": [
      "True\n",
      "False\n",
      "True\n"
     ]
    }
   ],
   "source": [
    "# Solution1\n",
    "\n",
    "class parenthesis:\n",
    "    def is_valid(self, expression):\n",
    "        opening = ('(', '{', '[')\n",
    "        closing = (')', '}', ']')\n",
    "        \n",
    "        mapping = dict(zip(opening, closing))          # {'(': ')', '{': '}', '[': ']'}\n",
    "        \n",
    "        closing_queue = []\n",
    "\n",
    "# If the parenthesis is in valid sequence then loop will enter first in 'if' block and then 'elif' block.\n",
    "        for exp in expression:                        # for example, \"(){}[]\"    or     \"()[{)}\"\n",
    "            if exp in opening:                        # ('(', '{', '[')\n",
    "                closing_queue.append(mapping[exp])    # closing_queue = [')']\n",
    "            elif exp in closing:                      \n",
    "                if not closing_queue:   # if valid then closing_queue will have one element & will match corresponding opening          \n",
    "                    return False        # False if closing queue empty or more than one element\n",
    "                if closing_queue[-1] == exp:   # If not empty then last element of closing_queue will match with current 'exp'\n",
    "                    closing_queue.pop()        # If matched the we pop the last element\n",
    "                else:                  # if not in closing_queue or last element of closing_queue don't match with current 'exp'\n",
    "                    return False\n",
    "        return True\n",
    "\n",
    "print(parenthesis().is_valid(\"(){}[]\"))\n",
    "print(parenthesis().is_valid(\"()[{)}\"))\n",
    "print(parenthesis().is_valid(\"()\"))"
   ]
  },
  {
   "cell_type": "code",
   "execution_count": 16,
   "metadata": {},
   "outputs": [
    {
     "name": "stdout",
     "output_type": "stream",
     "text": [
      "True\n",
      "False\n",
      "True\n"
     ]
    }
   ],
   "source": [
    "# Solution2\n",
    "\n",
    "class py_solution:\n",
    "   def is_valid_parenthese(self, expression):\n",
    "        opening = tuple('({[')\n",
    "        closing = tuple(')}]')\n",
    "        mapping = dict(zip(opening, closing))\n",
    "        queue = []\n",
    "\n",
    "        for letter in expression:\n",
    "            if letter in opening:\n",
    "                queue.append(mapping[letter])\n",
    "            elif letter in closing:\n",
    "                if not queue or letter != queue.pop():\n",
    "                    return False\n",
    "        return not queue\n",
    "\n",
    "print(py_solution().is_valid_parenthese(\"(){}[]\"))\n",
    "print(py_solution().is_valid_parenthese(\"()[{)}\"))\n",
    "print(py_solution().is_valid_parenthese(\"()\"))"
   ]
  },
  {
   "cell_type": "markdown",
   "metadata": {},
   "source": [
    "## circle"
   ]
  },
  {
   "cell_type": "code",
   "execution_count": null,
   "metadata": {},
   "outputs": [],
   "source": [
    "# Problem\n",
    "\n",
    "# Write a Python class named Circle constructed by a radius and two methods which\n",
    "# will compute the area and the perimeter of a circle."
   ]
  },
  {
   "cell_type": "code",
   "execution_count": 6,
   "metadata": {},
   "outputs": [
    {
     "name": "stdout",
     "output_type": "stream",
     "text": [
      "201.06\n",
      "50.27\n"
     ]
    }
   ],
   "source": [
    "# Solution\n",
    "\n",
    "import math\n",
    "\n",
    "class Circle:\n",
    "    def __init__(self, radius):\n",
    "        self.radius = radius\n",
    "        \n",
    "    def area(self):\n",
    "        return round((self.radius ** 2 * math.pi), 2)\n",
    "    \n",
    "    def perimeter(self):\n",
    "        return round((2 * math.pi * self.radius), 2)\n",
    "    \n",
    "circle = Circle(radius = 8)\n",
    "print(circle.area())\n",
    "print(circle.perimeter())"
   ]
  },
  {
   "cell_type": "markdown",
   "metadata": {},
   "source": [
    "## convert to int"
   ]
  },
  {
   "cell_type": "code",
   "execution_count": null,
   "metadata": {},
   "outputs": [],
   "source": [
    "# Problem\n",
    "\n",
    "# Write a Python class to convert a roman numeral to an integer.\n",
    "\n",
    "# Sample input\n",
    "# 'MMMCMLXXXVI'\n",
    "# 'MMMM'\n",
    "# 'C'\n",
    "\n",
    "# Sample output\n",
    "# 3986                                                                                                          \n",
    "# 4000                                                                                                          \n",
    "# 100\n",
    "\n",
    "\n",
    "\n",
    "# Rules: For example, In case of convertion of Roman numeral 'MCMLIV' - \n",
    "\n",
    "# M = 1000 must be added, because the following letter C =100 is lower.\n",
    "# C = 100 must be subtracted because the following letter M =1000 is greater.\n",
    "# M = 1000 must be added, because the following letter L = 50 is lower.\n",
    "# L = 50 must be added, because the following letter I =1 is lower.\n",
    "# I = 1 must be subtracted, because the following letter V = 5 is greater.\n",
    "# V = 5 must be added, because there are no more symbols left."
   ]
  },
  {
   "cell_type": "code",
   "execution_count": 17,
   "metadata": {},
   "outputs": [
    {
     "name": "stdout",
     "output_type": "stream",
     "text": [
      "3986\n",
      "4000\n",
      "100\n"
     ]
    }
   ],
   "source": [
    "# Solution\n",
    "\n",
    "class Convert:\n",
    "    def roman_to_int(self, roman_num):\n",
    "        roman_val = ('M', 'CM', 'D', 'CD', 'C', 'XC', 'L', 'XL', 'X', 'IX', 'V', 'IV', 'I')\n",
    "        int_val = (1000, 900, 500, 400, 100, 90, 50, 40, 10, 9, 5, 4, 1)\n",
    "        \n",
    "        roman_numeral_map = dict(zip(roman_val, int_val))\n",
    "        sum1 = 0\n",
    "        \n",
    "        for i in range(len(roman_num)):\n",
    "            if (i == len(roman_num) - 1) or (i > len(roman_num) - 1):\n",
    "                sum1 += roman_numeral_map[roman_num[i]]\n",
    "                \n",
    "            else:\n",
    "                if roman_numeral_map[roman_num[i]] >= roman_numeral_map[roman_num[i + 1]]:\n",
    "                    sum1 += roman_numeral_map[roman_num[i]]\n",
    "\n",
    "                else:\n",
    "                    sum1 -= roman_numeral_map[roman_num[i]]\n",
    "                    \n",
    "        return sum1\n",
    "    \n",
    "print(Convert().roman_to_int('MMMCMLXXXVI'))\n",
    "print(Convert().roman_to_int('MMMM'))\n",
    "print(Convert().roman_to_int('C'))"
   ]
  },
  {
   "cell_type": "markdown",
   "metadata": {},
   "source": [
    "## convert to roman"
   ]
  },
  {
   "cell_type": "code",
   "execution_count": null,
   "metadata": {},
   "outputs": [],
   "source": [
    "# Problem\n",
    "\n",
    "# Write a Python program to convert an integer to a roman numeral.\n",
    "\n",
    "# Input 1, 4000\n",
    "# Output I, MMMM"
   ]
  },
  {
   "cell_type": "markdown",
   "metadata": {},
   "source": [
    "### Link to Visualize the code: http://pythontutor.com/visualize.html#mode=display\n",
    "\n",
    "Here, we need to paste the code first. Then we can press the `next` or `prev` button to see step by step visualization of our code."
   ]
  },
  {
   "cell_type": "code",
   "execution_count": 27,
   "metadata": {},
   "outputs": [
    {
     "name": "stdout",
     "output_type": "stream",
     "text": [
      "I\n",
      "MMMM\n",
      "DXXXIV\n",
      "MDXXXIII\n"
     ]
    }
   ],
   "source": [
    "# Solution\n",
    "\n",
    "class Convert:\n",
    "    def int_to_roman(self, int_num):\n",
    "        roman_val = ('M', 'CM', 'D', 'CD', 'C', 'XC', 'L', 'XL', 'X', 'IX', 'V', 'IV', 'I')\n",
    "        int_val = (1000, 900, 500, 400, 100, 90, 50, 40, 10, 9, 5, 4, 1)\n",
    "        \n",
    "        roman_numeral_map = dict(zip(roman_val, int_val))\n",
    "        result = ''\n",
    "        \n",
    "        for roman, integer in roman_numeral_map.items():\n",
    "            while int_num >= integer:             # enter into loop only if mapped 'integer' value > current 'num'\n",
    "                result += roman                   # adding corresponding 'roman' mapping of 'integer' portion\n",
    "                int_num -= integer                # subtracting matched mapped integer portion to get updated value of 'num'\n",
    "        return result\n",
    "    \n",
    "print(Convert().int_to_roman(1))\n",
    "print(Convert().int_to_roman(4000))\n",
    "print(Convert().int_to_roman(534))\n",
    "print(Convert().int_to_roman(1533))"
   ]
  },
  {
   "cell_type": "markdown",
   "metadata": {},
   "source": [
    "## get and print"
   ]
  },
  {
   "cell_type": "code",
   "execution_count": null,
   "metadata": {},
   "outputs": [],
   "source": [
    "# Problem\n",
    "\n",
    "# Write a Python class which has two methods get_String and print_String. \n",
    "# get_String accept a string from the user and print_String print the string in upper case."
   ]
  },
  {
   "cell_type": "code",
   "execution_count": 1,
   "metadata": {},
   "outputs": [],
   "source": [
    "# Solution\n",
    "\n",
    "class String:\n",
    "    def get_string(self):"
   ]
  },
  {
   "cell_type": "markdown",
   "metadata": {},
   "source": [
    "## rectange"
   ]
  },
  {
   "cell_type": "code",
   "execution_count": null,
   "metadata": {},
   "outputs": [],
   "source": [
    "# Problem\n",
    "\n",
    "# Write a Python class named Rectangle constructed by a length and width and \n",
    "# a method which will compute the area of a rectangle. "
   ]
  },
  {
   "cell_type": "code",
   "execution_count": null,
   "metadata": {},
   "outputs": [],
   "source": [
    "# Solution\n",
    "\n"
   ]
  },
  {
   "cell_type": "markdown",
   "metadata": {},
   "source": [
    "## revert word"
   ]
  },
  {
   "cell_type": "code",
   "execution_count": null,
   "metadata": {},
   "outputs": [],
   "source": [
    "# Problem\n",
    "\n",
    "# Write a Python class to reverse a string word by word.\n",
    "\n",
    "# Input \"hello world\"\n",
    "# Output \"world hello\""
   ]
  },
  {
   "cell_type": "code",
   "execution_count": null,
   "metadata": {},
   "outputs": [],
   "source": [
    "# Solution\n",
    "\n"
   ]
  },
  {
   "cell_type": "markdown",
   "metadata": {},
   "source": [
    "## sum zero"
   ]
  },
  {
   "cell_type": "code",
   "execution_count": null,
   "metadata": {},
   "outputs": [],
   "source": [
    "# Problem\n",
    "\n",
    "# Write a Python program to find the three elements that sum to zero from a set (array) of n real numbers.\n",
    "\n",
    "# Input\n",
    "# [-25, -10, -7, -3, 2, 4, 8, 10]\n",
    "\n",
    "# Output\n",
    "# [[-10, 2, 8], [-7, -3, 10]] "
   ]
  },
  {
   "cell_type": "code",
   "execution_count": null,
   "metadata": {},
   "outputs": [],
   "source": [
    "# Solution\n",
    "\n"
   ]
  },
  {
   "cell_type": "markdown",
   "metadata": {},
   "source": [
    "### [Move to Top](#Table-of-Contents---Class)"
   ]
  },
  {
   "cell_type": "markdown",
   "metadata": {},
   "source": [
    "### <center> The End </center>"
   ]
  }
 ],
 "metadata": {
  "kernelspec": {
   "display_name": "Python 3",
   "language": "python",
   "name": "python3"
  },
  "language_info": {
   "codemirror_mode": {
    "name": "ipython",
    "version": 3
   },
   "file_extension": ".py",
   "mimetype": "text/x-python",
   "name": "python",
   "nbconvert_exporter": "python",
   "pygments_lexer": "ipython3",
   "version": "3.7.3"
  }
 },
 "nbformat": 4,
 "nbformat_minor": 2
}
