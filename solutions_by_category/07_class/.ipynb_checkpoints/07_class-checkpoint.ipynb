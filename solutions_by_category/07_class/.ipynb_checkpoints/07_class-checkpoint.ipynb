{
 "cells": [
  {
   "cell_type": "markdown",
   "metadata": {},
   "source": [
    "# Table of Contents - Class\n",
    "\n",
    "- [check parentheses](#check-parentheses) &nbsp;&nbsp;&nbsp;&nbsp;&nbsp;(See Again + Difficult)\n",
    "- [circle](#circle)\n",
    "- [convert to int](#convert-to-int) &nbsp;&nbsp;&nbsp;&nbsp;&nbsp;&nbsp;&nbsp;&nbsp;&nbsp;&nbsp;&nbsp;&nbsp;&nbsp;&nbsp; (See Again + Difficult)\n",
    "- [convert to roman](#convert-to-roman) &nbsp;&nbsp;&nbsp;&nbsp;&nbsp;&nbsp;&nbsp;&nbsp; (See Again + Difficult)\n",
    "- [get and print](#get-and-print)\n",
    "- [rectange](#rectange)\n",
    "- [revert word](#revert-word) &nbsp;&nbsp;&nbsp;&nbsp;&nbsp;&nbsp;&nbsp;&nbsp;&nbsp;&nbsp;&nbsp;&nbsp;&nbsp;&nbsp;&nbsp;&nbsp;&nbsp;&nbsp;(See Again)\n",
    "- [sum zero](#sum-zero)   &nbsp;&nbsp;&nbsp;&nbsp;&nbsp;&nbsp;&nbsp;&nbsp; &nbsp;&nbsp;&nbsp;&nbsp;&nbsp;&nbsp;&nbsp;&nbsp;&nbsp;&nbsp;&nbsp;&nbsp;(See Again + Difficult)"
   ]
  },
  {
   "cell_type": "markdown",
   "metadata": {},
   "source": [
    "## check parentheses"
   ]
  },
  {
   "cell_type": "code",
   "execution_count": null,
   "metadata": {},
   "outputs": [],
   "source": [
    "# Problem\n",
    "\n",
    "# Write a Python program to find validity of a string of parentheses, '(', ')', '{', '}', '[' and ']. \n",
    "# These brackets must be close in the correct order, \n",
    "# for example \"()\" and \"()[]{}\" are valid but \"[)\", \"({[)]\" and \"{‌{‌{\" are invalid."
   ]
  },
  {
   "cell_type": "code",
   "execution_count": 12,
   "metadata": {},
   "outputs": [
    {
     "name": "stdout",
     "output_type": "stream",
     "text": [
      "True\n",
      "False\n",
      "True\n"
     ]
    }
   ],
   "source": [
    "# Solution1\n",
    "\n",
    "class parenthesis:\n",
    "    def is_valid(self, expression):\n",
    "        opening = ('(', '{', '[')\n",
    "        closing = (')', '}', ']')\n",
    "        \n",
    "        mapping = dict(zip(opening, closing))          # {'(': ')', '{': '}', '[': ']'}\n",
    "        \n",
    "        closing_queue = []\n",
    "\n",
    "# If the parenthesis is in valid sequence then loop will enter first in 'if' block and then 'elif' block.\n",
    "        for exp in expression:                        # for example, \"(){}[]\"    or     \"()[{)}\"\n",
    "            if exp in opening:                        # ('(', '{', '[')\n",
    "                closing_queue.append(mapping[exp])    # closing_queue = [')']\n",
    "            elif exp in closing:                      \n",
    "                if not closing_queue:   # if valid then closing_queue will have one element & will match corresponding opening          \n",
    "                    return False        # False if closing queue empty or more than one element\n",
    "                if closing_queue[-1] == exp:   # If not empty then last element of closing_queue will match with current 'exp'\n",
    "                    closing_queue.pop()        # If matched the we pop the last element\n",
    "                else:                  # if not in closing_queue or last element of closing_queue don't match with current 'exp'\n",
    "                    return False\n",
    "        return True\n",
    "\n",
    "print(parenthesis().is_valid(\"(){}[]\"))\n",
    "print(parenthesis().is_valid(\"()[{)}\"))\n",
    "print(parenthesis().is_valid(\"()\"))"
   ]
  },
  {
   "cell_type": "code",
   "execution_count": 16,
   "metadata": {},
   "outputs": [
    {
     "name": "stdout",
     "output_type": "stream",
     "text": [
      "True\n",
      "False\n",
      "True\n"
     ]
    }
   ],
   "source": [
    "# Solution2\n",
    "\n",
    "class py_solution:\n",
    "   def is_valid_parenthese(self, expression):\n",
    "        opening = tuple('({[')\n",
    "        closing = tuple(')}]')\n",
    "        mapping = dict(zip(opening, closing))\n",
    "        queue = []\n",
    "\n",
    "        for letter in expression:\n",
    "            if letter in opening:\n",
    "                queue.append(mapping[letter])\n",
    "            elif letter in closing:\n",
    "                if not queue or letter != queue.pop():\n",
    "                    return False\n",
    "        return not queue\n",
    "\n",
    "print(py_solution().is_valid_parenthese(\"(){}[]\"))\n",
    "print(py_solution().is_valid_parenthese(\"()[{)}\"))\n",
    "print(py_solution().is_valid_parenthese(\"()\"))"
   ]
  },
  {
   "cell_type": "markdown",
   "metadata": {},
   "source": [
    "## circle"
   ]
  },
  {
   "cell_type": "code",
   "execution_count": null,
   "metadata": {},
   "outputs": [],
   "source": [
    "# Problem\n",
    "\n",
    "# Write a Python class named Circle constructed by a radius and two methods which\n",
    "# will compute the area and the perimeter of a circle."
   ]
  },
  {
   "cell_type": "code",
   "execution_count": 6,
   "metadata": {},
   "outputs": [
    {
     "name": "stdout",
     "output_type": "stream",
     "text": [
      "201.06\n",
      "50.27\n"
     ]
    }
   ],
   "source": [
    "# Solution\n",
    "\n",
    "import math\n",
    "\n",
    "class Circle:\n",
    "    def __init__(self, radius):\n",
    "        self.radius = radius\n",
    "        \n",
    "    def area(self):\n",
    "        return round((self.radius ** 2 * math.pi), 2)\n",
    "    \n",
    "    def perimeter(self):\n",
    "        return round((2 * math.pi * self.radius), 2)\n",
    "    \n",
    "circle = Circle(radius = 8)\n",
    "print(circle.area())\n",
    "print(circle.perimeter())"
   ]
  },
  {
   "cell_type": "markdown",
   "metadata": {},
   "source": [
    "## convert to int"
   ]
  },
  {
   "cell_type": "code",
   "execution_count": null,
   "metadata": {},
   "outputs": [],
   "source": [
    "# Problem\n",
    "\n",
    "# Write a Python class to convert a roman numeral to an integer.\n",
    "\n",
    "# Sample input\n",
    "# 'MMMCMLXXXVI'\n",
    "# 'MMMM'\n",
    "# 'C'\n",
    "\n",
    "# Sample output\n",
    "# 3986                                                                                                          \n",
    "# 4000                                                                                                          \n",
    "# 100\n",
    "\n",
    "\n",
    "\n",
    "# Rules: For example, In case of convertion of Roman numeral 'MCMLIV' - \n",
    "\n",
    "# M = 1000 must be added, because the following letter C =100 is lower.\n",
    "# C = 100 must be subtracted because the following letter M =1000 is greater.\n",
    "# M = 1000 must be added, because the following letter L = 50 is lower.\n",
    "# L = 50 must be added, because the following letter I =1 is lower.\n",
    "# I = 1 must be subtracted, because the following letter V = 5 is greater.\n",
    "# V = 5 must be added, because there are no more symbols left."
   ]
  },
  {
   "cell_type": "code",
   "execution_count": 17,
   "metadata": {},
   "outputs": [
    {
     "name": "stdout",
     "output_type": "stream",
     "text": [
      "3986\n",
      "4000\n",
      "100\n"
     ]
    }
   ],
   "source": [
    "# Solution\n",
    "\n",
    "class Convert:\n",
    "    def roman_to_int(self, roman_num):\n",
    "        roman_val = ('M', 'CM', 'D', 'CD', 'C', 'XC', 'L', 'XL', 'X', 'IX', 'V', 'IV', 'I')\n",
    "        int_val = (1000, 900, 500, 400, 100, 90, 50, 40, 10, 9, 5, 4, 1)\n",
    "        \n",
    "        roman_numeral_map = dict(zip(roman_val, int_val))\n",
    "        sum1 = 0\n",
    "        \n",
    "        for i in range(len(roman_num)):\n",
    "            if (i == len(roman_num) - 1) or (i > len(roman_num) - 1):\n",
    "                sum1 += roman_numeral_map[roman_num[i]]\n",
    "                \n",
    "            else:\n",
    "                if roman_numeral_map[roman_num[i]] >= roman_numeral_map[roman_num[i + 1]]:\n",
    "                    sum1 += roman_numeral_map[roman_num[i]]\n",
    "\n",
    "                else:\n",
    "                    sum1 -= roman_numeral_map[roman_num[i]]\n",
    "                    \n",
    "        return sum1\n",
    "    \n",
    "print(Convert().roman_to_int('MMMCMLXXXVI'))\n",
    "print(Convert().roman_to_int('MMMM'))\n",
    "print(Convert().roman_to_int('C'))"
   ]
  },
  {
   "cell_type": "markdown",
   "metadata": {},
   "source": [
    "## convert to roman"
   ]
  },
  {
   "cell_type": "code",
   "execution_count": null,
   "metadata": {},
   "outputs": [],
   "source": [
    "# Problem\n",
    "\n",
    "# Write a Python program to convert an integer to a roman numeral.\n",
    "\n",
    "# Input 1, 4000\n",
    "# Output I, MMMM"
   ]
  },
  {
   "cell_type": "markdown",
   "metadata": {},
   "source": [
    "### Link to Visualize the code: http://pythontutor.com/visualize.html#mode=display\n",
    "\n",
    "Here, we need to paste the code first. Then we can press the `next` or `prev` button to see step by step visualization of our code."
   ]
  },
  {
   "cell_type": "code",
   "execution_count": 27,
   "metadata": {},
   "outputs": [
    {
     "name": "stdout",
     "output_type": "stream",
     "text": [
      "I\n",
      "MMMM\n",
      "DXXXIV\n",
      "MDXXXIII\n"
     ]
    }
   ],
   "source": [
    "# Solution\n",
    "\n",
    "class Convert:\n",
    "    def int_to_roman(self, int_num):\n",
    "        roman_val = ('M', 'CM', 'D', 'CD', 'C', 'XC', 'L', 'XL', 'X', 'IX', 'V', 'IV', 'I')\n",
    "        int_val = (1000, 900, 500, 400, 100, 90, 50, 40, 10, 9, 5, 4, 1)\n",
    "        \n",
    "        roman_numeral_map = dict(zip(roman_val, int_val))\n",
    "        result = ''\n",
    "        \n",
    "        for roman, integer in roman_numeral_map.items():\n",
    "            while int_num >= integer:             # enter into loop only if mapped 'integer' value > current 'num'\n",
    "                result += roman                   # adding corresponding 'roman' mapping of 'integer' portion\n",
    "                int_num -= integer                # subtracting matched mapped integer portion to get updated value of 'num'\n",
    "        return result\n",
    "    \n",
    "print(Convert().int_to_roman(1))\n",
    "print(Convert().int_to_roman(4000))\n",
    "print(Convert().int_to_roman(534))\n",
    "print(Convert().int_to_roman(1533))"
   ]
  },
  {
   "cell_type": "markdown",
   "metadata": {},
   "source": [
    "## get and print"
   ]
  },
  {
   "cell_type": "code",
   "execution_count": null,
   "metadata": {},
   "outputs": [],
   "source": [
    "# Problem\n",
    "\n",
    "# Write a Python class which has two methods get_String and print_String. \n",
    "# get_String accept a string from the user and print_String print the string in upper case."
   ]
  },
  {
   "cell_type": "code",
   "execution_count": 11,
   "metadata": {},
   "outputs": [
    {
     "name": "stdout",
     "output_type": "stream",
     "text": [
      "Enter a String: mEhedi\n",
      "MEHEDI\n"
     ]
    }
   ],
   "source": [
    "# Solution\n",
    "\n",
    "class String:\n",
    "    def get_string(self):\n",
    "        self.str1 = input('Enter a String: ')\n",
    "        \n",
    "    def print_string(self):\n",
    "        print(self.str1.upper())\n",
    "    \n",
    "    \n",
    "str1 = String()\n",
    "str1.get_string()\n",
    "str1.print_string()"
   ]
  },
  {
   "cell_type": "markdown",
   "metadata": {},
   "source": [
    "## rectange"
   ]
  },
  {
   "cell_type": "code",
   "execution_count": null,
   "metadata": {},
   "outputs": [],
   "source": [
    "# Problem\n",
    "\n",
    "# Write a Python class named Rectangle constructed by a length and width and \n",
    "# a method which will compute the area of a rectangle. "
   ]
  },
  {
   "cell_type": "code",
   "execution_count": 14,
   "metadata": {},
   "outputs": [
    {
     "name": "stdout",
     "output_type": "stream",
     "text": [
      "30\n",
      "363\n"
     ]
    }
   ],
   "source": [
    "# Solution\n",
    "\n",
    "class Rectangle:\n",
    "    def __init__(self, l, w):\n",
    "        self.length = l\n",
    "        self.width = w\n",
    "        \n",
    "    def area(self):\n",
    "        return self.length * self.width\n",
    "    \n",
    "\n",
    "rec1 = Rectangle(6, 5)\n",
    "print(rec1.area())\n",
    "\n",
    "rec2 = Rectangle(11, 33)\n",
    "print(rec2.area())"
   ]
  },
  {
   "cell_type": "markdown",
   "metadata": {},
   "source": [
    "## revert word"
   ]
  },
  {
   "cell_type": "code",
   "execution_count": null,
   "metadata": {},
   "outputs": [],
   "source": [
    "# Problem\n",
    "\n",
    "# Write a Python class to reverse a string word by word.\n",
    "\n",
    "# Input \"hello world\"\n",
    "# Output \"world hello\""
   ]
  },
  {
   "cell_type": "code",
   "execution_count": 33,
   "metadata": {},
   "outputs": [
    {
     "name": "stdout",
     "output_type": "stream",
     "text": [
      "world hello\n"
     ]
    }
   ],
   "source": [
    "# Solution\n",
    "\n",
    "class Reverse:\n",
    "    def word_by_word(self, s):\n",
    "        s1 = reversed(s.split())\n",
    "        return ' '.join(s1)\n",
    "    \n",
    "print(Reverse().word_by_word('hello world'))"
   ]
  },
  {
   "cell_type": "code",
   "execution_count": 34,
   "metadata": {},
   "outputs": [
    {
     "name": "stdout",
     "output_type": "stream",
     "text": [
      "now world hello\n"
     ]
    }
   ],
   "source": [
    "# One Liner\n",
    "\n",
    "class Reverse:\n",
    "    def word_by_word(self, s):\n",
    "        return ' '.join(reversed(s.split()))\n",
    "    \n",
    "print(Reverse().word_by_word('hello world now'))"
   ]
  },
  {
   "cell_type": "markdown",
   "metadata": {},
   "source": [
    "## sum zero"
   ]
  },
  {
   "cell_type": "code",
   "execution_count": null,
   "metadata": {},
   "outputs": [],
   "source": [
    "# Problem\n",
    "\n",
    "# Write a Python program to find the three elements that sum to zero from a set (array) of n real numbers.\n",
    "\n",
    "# Input\n",
    "# [-25, -10, -7, -3, 2, 4, 8, 10]\n",
    "\n",
    "# Output\n",
    "# [[-10, 2, 8], [-7, -3, 10]] "
   ]
  },
  {
   "cell_type": "code",
   "execution_count": 24,
   "metadata": {},
   "outputs": [
    {
     "name": "stdout",
     "output_type": "stream",
     "text": [
      "[[-10, 2, 8], [-7, -3, 10]]\n",
      "[]\n"
     ]
    }
   ],
   "source": [
    "# Solution 1 (Ref: https://www.geeksforgeeks.org/find-triplets-array-whose-sum-equal-zero/)\n",
    "\n",
    "\n",
    "# Approach: \n",
    "# The naive approach run three loops and check one by one that sum of three elements is zero or not. \n",
    "# If the sum of three elements is zero then print elements otherwise return empty list.\n",
    "\n",
    "\n",
    "# Algorithm:\n",
    "# 1. Run three nested loops with loop counter i, j, k\n",
    "# 2. The three loops will run from 0 to n-3 and second loop from i+1 to n-2 and the third loop from j+1 to n-1. \n",
    "#    The loop counter represents the three elements of the triplet.\n",
    "# 3. Check if the sum of elements at i’th, j’th, k’th is equal to zero or not. If yes print the sum else continue.\n",
    "\n",
    "\n",
    "class Triplets:\n",
    "    def find_zero_sum(self, arr):\n",
    "        found = True\n",
    "        result = []\n",
    "        n = len(arr)                       # e.g. array length = 8\n",
    "\n",
    "        for i in range(0, n-2):            # i = 0 to 5\n",
    "            for j in range(i+1, n-1):      # i = 0 -> j = 1 to 6; i = 1 -> j = 2 to 6; i = 3 -> j = 4 to 6\n",
    "                for k in range(j+1, n):    # j = 1 -> k = 2 to 7; j = 2 -> k = 3 to 7; j = 3 -> k = 4 to 7\n",
    "                    if (arr[i] + arr[j] + arr[k] == 0):\n",
    "                        result.append([arr[i], arr[j], arr[k]])\n",
    "\n",
    "        if found == True:\n",
    "            return result\n",
    "        else:\n",
    "            return False\n",
    "    \n",
    "print(Triplets().find_zero_sum([-25, -10, -7, -3, 2, 4, 8, 10]))\n",
    "print(Triplets().find_zero_sum([-25, -12, -7, -2, 3, 5, 8, 13]))"
   ]
  },
  {
   "cell_type": "code",
   "execution_count": 37,
   "metadata": {},
   "outputs": [
    {
     "name": "stdout",
     "output_type": "stream",
     "text": [
      "[[-10, 2, 8], [-7, -3, 10]]\n",
      "Not Found\n",
      "[[-10, 4, 6]]\n"
     ]
    }
   ],
   "source": [
    "# Solution 2 (Ref: https://www.geeksforgeeks.org/find-triplets-array-whose-sum-equal-zero/)\n",
    "\n",
    "\n",
    "# Approach: \n",
    "# For every element check that there is a pair whose sum is equal to the negative value of that element.\n",
    "\n",
    "\n",
    "# Algorithm:\n",
    "# 1. Sort the array in ascending order.\n",
    "# 2. Traverse the array from start to end.\n",
    "# 3. For every index i, create two variables l = i + 1 and r = n – 1\n",
    "# 4. Run a loop until l is less than r, if the sum of array[l], array[r] is equal to zero \n",
    "#    then print the triplet and break the loop\n",
    "# 5. If the sum is less than zero then increment value of l, by increasing value of l the sum will increase \n",
    "#    as the array is sorted, so array[l+1] > array [l]\n",
    "# 6. If the sum is greater than zero then decrement value of r, by increasing value of l the sum will decrease \n",
    "#    as the array is sorted, so array[r-1] < array [r].\n",
    "\n",
    "\n",
    "class Triplets:\n",
    "    def find_zero_sum(self, arr):\n",
    "        found = False\n",
    "        result = []\n",
    "        n = len(arr)                      \n",
    "        \n",
    "        arr.sort()\n",
    "        for i in range(0, n-1):                          # i = 0 to 7 (e.g. let's take an array of length 8) \n",
    "            l = i + 1                                    # initialize left and right \n",
    "            r = n - 1                                    # l = 1 & r = 7\n",
    "            x = arr[i]                                   # x = arr[0] = -10\n",
    "            while (l < r): \n",
    "\n",
    "                if (x + arr[l] + arr[r] == 0):           # print elements if it's sum is zero \n",
    "                    result.append([x, arr[l], arr[r]])\n",
    "                    l+=1\n",
    "                    r-=1\n",
    "                    found = True\n",
    "\n",
    "                elif (x + arr[l] + arr[r] < 0): \n",
    "                    l += 1                               # If sum of three elements is less than zero then increment in left \n",
    "\n",
    "                else: \n",
    "                    r -= 1                               # if sum is greater than zero than decrement in right side\n",
    "\n",
    "\n",
    "        if found == True:\n",
    "            return result\n",
    "        else:\n",
    "            return 'Not Found'\n",
    "    \n",
    "print(Triplets().find_zero_sum([-25, -10, -7, -3, 2, 4, 8, 10]))\n",
    "print(Triplets().find_zero_sum([-25, -12, -7, -2, 3, 5, 8, 13]))\n",
    "print(Triplets().find_zero_sum([-25, -10, -7, -3, 6, 4, 8]))"
   ]
  },
  {
   "cell_type": "markdown",
   "metadata": {},
   "source": [
    "### [Move to Top](#Table-of-Contents---Class)"
   ]
  },
  {
   "cell_type": "markdown",
   "metadata": {},
   "source": [
    "### <center> The End </center>"
   ]
  }
 ],
 "metadata": {
  "kernelspec": {
   "display_name": "Python 3",
   "language": "python",
   "name": "python3"
  },
  "language_info": {
   "codemirror_mode": {
    "name": "ipython",
    "version": 3
   },
   "file_extension": ".py",
   "mimetype": "text/x-python",
   "name": "python",
   "nbconvert_exporter": "python",
   "pygments_lexer": "ipython3",
   "version": "3.7.3"
  }
 },
 "nbformat": 4,
 "nbformat_minor": 2
}
