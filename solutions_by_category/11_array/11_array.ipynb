{
 "cells": [
  {
   "cell_type": "markdown",
   "metadata": {},
   "source": [
    "# Table of Contents - Array\n",
    "\n",
    "- [array longest non repeat](#array-longest-non-repeat) (see again)\n",
    "- [array merge intervals](#array-merge-intervals) (see again)\n",
    "- [array missing element challenge](#array-missing-element-challenge)\n",
    "- [array rotate](#array-rotate)\n",
    "- [array summary range](#array-summary-range)\n",
    "- [array two sum](#array-two-sum)"
   ]
  },
  {
   "cell_type": "markdown",
   "metadata": {},
   "source": [
    "## array longest non repeat"
   ]
  },
  {
   "cell_type": "code",
   "execution_count": null,
   "metadata": {},
   "outputs": [],
   "source": [
    "# Problem\n",
    "\n",
    "# Given a string, find the length of the longest substring without repeating characters.\n",
    "\n",
    "# Examples:\n",
    "\n",
    "# Given \"abcabcbb\", the answer is \"abc\", which the length is 3.\n",
    "# Given \"bbbbb\", the answer is \"b\", with the length of 1.\n",
    "# Given \"pwwkew\", the answer is \"wke\", with the length of 3."
   ]
  },
  {
   "cell_type": "markdown",
   "metadata": {},
   "source": [
    "[Solution's Origin](https://codereview.stackexchange.com/questions/197589/given-a-string-find-the-length-of-the-longest-substring-without-repeating-chara)\n",
    "\n",
    "[Solution1 Demo Step by Step](http://pythontutor.com/visualize.html#code=def%20longest_non_repeat%28word%29%3A%0A%20%20%20%20n%20%3D%20len%28word%29%20%20%20%20%20%20%20%20%20%20%20%20%20%20%20%20%20%20%20%23%20set%20n%20%3D%206%3B%20e.g%20word%20%3D%20'pwwkew'%0A%20%20%20%20longest%20%3D%200%0A%20%20%20%20for%20i%20in%20range%28n%29%3A%20%20%20%20%20%20%20%20%20%20%20%20%20%20%23%20i%20%3D%200,%201,%202,%203,%204,%205%0A%20%20%20%20%20%20%20%20seen%20%3D%20set%28%29%20%20%20%20%20%20%20%20%20%20%20%20%20%20%20%20%23%20seen%20%3D%20%7B%7D%0A%20%20%20%20%20%20%20%20for%20j%20in%20range%28i,%20n%29%3A%20%20%20%20%20%20%20%23%20j%20%3D%20%280,%200%29,%20%280,%201%29,%20%280,%202%29,%20%280,%203%29,%20%280,%204%29,%20%280,%205%29%0A%20%20%20%20%20%20%20%20%20%20%20%20if%20word%5Bj%5D%20in%20seen%3A%20%20%20%20%20%23%20word%5B0%5D,%20word%5B1%5D,%20......%0A%20%20%20%20%20%20%20%20%20%20%20%20%20%20%20%20break%0A%20%20%20%20%20%20%20%20%20%20%20%20seen.add%28word%5Bj%5D%29%20%20%20%20%20%20%20%23%20%5B'pw'%5D%0A%20%20%20%20%20%20%20%20longest%20%3D%20max%28len%28seen%29,%20longest%29%0A%20%20%20%20return%20longest%0A%20%20%20%20%0Alongest_non_repeat%28'pwwkew'%29&cumulative=false&curInstr=0&heapPrimitives=nevernest&mode=display&origin=opt-frontend.js&py=3&rawInputLstJSON=%5B%5D&textReferences=false)\n",
    "\n",
    "[Solution2 Demo Step by Step](http://pythontutor.com/visualize.html#code=def%20longest_non_repeat%28word%29%3A%0A%20%20%20%20if%20not%20word%3A%20return%200%0A%0A%20%20%20%20currentLength%20%3D%201%0A%20%20%20%20longest%20%3D%201%0A%20%20%20%20last_seen%20%3D%20%7Bword%5B0%5D%20%3A%200%7D%0A%20%20%20%20i%20%3D%201%0A%0A%20%20%20%20while%20i%20%3C%20len%28word%29%3A%0A%20%20%20%20%20%20%20%20letter%20%3D%20word%5Bi%5D%0A%20%20%20%20%20%20%20%20if%20letter%20in%20last_seen%3A%0A%20%20%20%20%20%20%20%20%20%20%20%20i%20%3D%20last_seen%5Bletter%5D%20%2B%201%0A%20%20%20%20%20%20%20%20%20%20%20%20last_seen.clear%28%29%0A%20%20%20%20%20%20%20%20%20%20%20%20longest%20%3D%20max%28longest,%20currentLength%29%0A%20%20%20%20%20%20%20%20%20%20%20%20currentLength%20%3D%200%0A%20%20%20%20%20%20%20%20else%3A%0A%20%20%20%20%20%20%20%20%20%20%20%20last_seen%5Bletter%5D%20%3D%20i%0A%20%20%20%20%20%20%20%20%20%20%20%20currentLength%20%2B%3D%201%0A%20%20%20%20%20%20%20%20%20%20%20%20i%20%2B%3D%201%0A%0A%20%20%20%20longest%20%3D%20max%28longest,%20currentLength%29%0A%0A%20%20%20%20return%20longest%0A%0Alongest_non_repeat%28'pwwkew'%29&cumulative=false&curInstr=0&heapPrimitives=nevernest&mode=display&origin=opt-frontend.js&py=3&rawInputLstJSON=%5B%5D&textReferences=false)"
   ]
  },
  {
   "cell_type": "code",
   "execution_count": 4,
   "metadata": {},
   "outputs": [
    {
     "data": {
      "text/plain": [
       "1"
      ]
     },
     "execution_count": 4,
     "metadata": {},
     "output_type": "execute_result"
    }
   ],
   "source": [
    "# Solution1\n",
    "\n",
    "def longest_non_repeat(word):\n",
    "    n = len(word)                   # set n = 6; e.g word = 'pwwkew'\n",
    "    longest = 0\n",
    "    for i in range(n):              # i = 0, 1, 2, 3, 4, 5\n",
    "        seen = set()                # seen = {}\n",
    "        for j in range(i, n):       # j = (0, 0), (0, 1), (0, 2), (0, 3), (0, 4), (0, 5)\n",
    "            if word[j] in seen:     # word[0], word[1], ......\n",
    "                break\n",
    "            seen.add(word[j])       # ['pw']\n",
    "        longest = max(len(seen), longest)\n",
    "    return longest\n",
    "    \n",
    "longest_non_repeat('pwwkew')"
   ]
  },
  {
   "cell_type": "code",
   "execution_count": 9,
   "metadata": {},
   "outputs": [
    {
     "data": {
      "text/plain": [
       "3"
      ]
     },
     "execution_count": 9,
     "metadata": {},
     "output_type": "execute_result"
    }
   ],
   "source": [
    "# Solution2\n",
    "\n",
    "def longest_non_repeat(word):\n",
    "    if not word: return 0\n",
    "\n",
    "    currentLength = 1\n",
    "    longest = 1\n",
    "    last_seen = {word[0] : 0}\n",
    "    i = 1\n",
    "\n",
    "    while i < len(word):\n",
    "        letter = word[i]\n",
    "        if letter in last_seen:\n",
    "            i = last_seen[letter] + 1\n",
    "            last_seen.clear()\n",
    "            longest = max(longest, currentLength)\n",
    "            currentLength = 0\n",
    "        else:\n",
    "            last_seen[letter] = i\n",
    "            currentLength += 1\n",
    "            i += 1\n",
    "\n",
    "    longest = max(longest, currentLength)\n",
    "\n",
    "    return longest\n",
    "\n",
    "longest_non_repeat('pwwkew')"
   ]
  },
  {
   "cell_type": "markdown",
   "metadata": {},
   "source": [
    "## array merge intervals"
   ]
  },
  {
   "cell_type": "code",
   "execution_count": null,
   "metadata": {},
   "outputs": [],
   "source": [
    "# Problem\n",
    "\n",
    "# Given a collection of intervals which are already sorted by start number, merge all overlapping intervals.\n",
    "\n",
    "# For example,\n",
    "# Given [[1,3],[2,6],[5,10],[11,16],[15,18],[19,22]],\n",
    "# return [[1, 10], [11, 18], [19, 22]]"
   ]
  },
  {
   "cell_type": "markdown",
   "metadata": {},
   "source": [
    "[Solution's Step by Step Demo](https://cscircles.cemc.uwaterloo.ca/visualize#code=collection+%3D+%5B%5B1,3%5D,%5B2,6%5D,%5B5,10%5D,%5B11,16%5D,%5B15,18%5D,%5B19,22%5D%5D%0Ai+%3D+0%0A%0Awhile+i+%3C+len(collection)+-+1%3A%0A++++if+collection%5Bi%2B1%5D%5B0%5D+%3C+collection%5Bi%5D%5B1%5D%3A%0A++++++++collection%5Bi%5D%5B1%5D+%3D+collection%5Bi%2B1%5D%5B1%5D%0A++++++++del+collection%5Bi%2B1%5D%0A++++++++i+-%3D+1%0A++++i+%2B%3D1%0A++++%0Aprint(collection)&mode=display&raw_input=&curInstr=1)"
   ]
  },
  {
   "cell_type": "code",
   "execution_count": 40,
   "metadata": {},
   "outputs": [
    {
     "name": "stdout",
     "output_type": "stream",
     "text": [
      "[[1, 10], [11, 18], [19, 22]]\n"
     ]
    }
   ],
   "source": [
    "# Solution\n",
    "\n",
    "collection = [[1,3],[2,6],[5,10],[11,16],[15,18],[19,22]]\n",
    "i = 0\n",
    "\n",
    "while i < len(collection) - 1:\n",
    "    if collection[i+1][0] < collection[i][1]:\n",
    "        collection[i][1] = collection[i+1][1]\n",
    "        del collection[i+1]\n",
    "        i -= 1\n",
    "    i +=1\n",
    "    \n",
    "print(collection)"
   ]
  },
  {
   "cell_type": "markdown",
   "metadata": {},
   "source": [
    "## array missing element challenge"
   ]
  },
  {
   "cell_type": "code",
   "execution_count": 1,
   "metadata": {},
   "outputs": [],
   "source": [
    "# Problem\n",
    "\n",
    "# Consider an array of non-negative integers.\n",
    "# A second array is formed by shuffling the elements of the first array and deleting a random element. \n",
    "# Given these two arrays, find which element is missing in the second array.\n",
    "\n",
    "# Here is an example input, the first array is shuffled and the number 5 is removed to construct the second array.\n",
    "\n",
    "# Input:\n",
    "# finder([1,2,3,4,5,6,7],[3,7,2,1,4,6])\n",
    "\n",
    "# Output:\n",
    "# 5 is the missing number"
   ]
  },
  {
   "cell_type": "code",
   "execution_count": 45,
   "metadata": {},
   "outputs": [
    {
     "name": "stdout",
     "output_type": "stream",
     "text": [
      "3 is the missing number\n",
      "4 is the missing number\n"
     ]
    }
   ],
   "source": [
    "# Solution\n",
    "\n",
    "def find_random_delete(arr1, arr2):\n",
    "    return '{} is the missing number'.format(sum(arr1) - sum(arr2))\n",
    "\n",
    "print(find_random_delete([1,2,3,4,5,6,7],[5,7,2,1,4,6]))\n",
    "print(find_random_delete([1,2,3,4,5,6,7],[3,7,2,1,5,6]))"
   ]
  },
  {
   "cell_type": "markdown",
   "metadata": {},
   "source": [
    "## array rotate"
   ]
  },
  {
   "cell_type": "code",
   "execution_count": null,
   "metadata": {},
   "outputs": [],
   "source": [
    "# Problem\n",
    "\n",
    "# Rotate an array of n elements to the right by k steps.\n",
    "\n",
    "# For example, with n = 7 and k = 3,\n",
    "# the array [1,2,3,4,5,6,7] is rotated to [5,6,7,1,2,3,4].\n",
    "\n",
    "# Note:\n",
    "# Try to come up as many solutions as you can,\n",
    "# there are at least 3 different ways to solve this problem."
   ]
  },
  {
   "cell_type": "code",
   "execution_count": 58,
   "metadata": {},
   "outputs": [
    {
     "name": "stdout",
     "output_type": "stream",
     "text": [
      "[3, 4, 5, 6, 7, 1, 2]\n",
      "[5, 6, 7, 1, 2, 3, 4]\n",
      "[4, 5, 6, 7, 1, 2, 3]\n",
      "[4, 5, 6, 7, 1, 2, 3]\n"
     ]
    }
   ],
   "source": [
    "# Solution1\n",
    "\n",
    "def rotate_array(arr, k):\n",
    "    first = arr[len(arr) - k:]\n",
    "    last = arr[:len(arr) - k]\n",
    "    return first + last\n",
    "\n",
    "print(rotate_array([1,2,3,4,5,6,7], 5))\n",
    "print(rotate_array([1,2,3,4,5,6,7], 3))\n",
    "print(rotate_array([1,2,3,4,5,6,7], 4))\n",
    "print(rotate_array([1,2,3,4,5,6,7], 11))"
   ]
  },
  {
   "cell_type": "code",
   "execution_count": 59,
   "metadata": {},
   "outputs": [
    {
     "name": "stdout",
     "output_type": "stream",
     "text": [
      "[3, 4, 5, 6, 7, 1, 2]\n"
     ]
    }
   ],
   "source": [
    "# Solution2\n",
    "\n",
    "org = [1,2,3,4,5,6,7]\n",
    "result = org[:]\n",
    "steps = 5\n",
    "\n",
    "for idx,num in enumerate(org):\n",
    "    if idx+steps < len(org):\n",
    "        result[idx+steps] = org[idx]\n",
    "    else:\n",
    "        result[idx+steps-len(org)] = org[idx]\n",
    "\n",
    "print(result)"
   ]
  },
  {
   "cell_type": "markdown",
   "metadata": {},
   "source": [
    "## array summary range"
   ]
  },
  {
   "cell_type": "code",
   "execution_count": null,
   "metadata": {},
   "outputs": [],
   "source": [
    "# Problem\n",
    "\n",
    "# Given a sorted integer array without duplicates,\n",
    "# return the summary of its ranges.\n",
    "\n",
    "# For example, given [0,1,2,4,5,7], return [\"0->2\",\"4->5\",\"7\"]."
   ]
  },
  {
   "cell_type": "code",
   "execution_count": null,
   "metadata": {},
   "outputs": [],
   "source": [
    "# Solution\n",
    "\n"
   ]
  },
  {
   "cell_type": "markdown",
   "metadata": {},
   "source": [
    "## array two sum"
   ]
  },
  {
   "cell_type": "code",
   "execution_count": null,
   "metadata": {},
   "outputs": [],
   "source": [
    "# Problem\n",
    "\n",
    "# Given an array of integers, return indices of the two numbers\n",
    "# such that they add up to a specific target.\n",
    "# You may assume that each input would have exactly one solution\n",
    "\n",
    "# Example:\n",
    "#     Given nums = [2, 7, 11, 15], target = 26,\n",
    "#     Because nums[2] + nums[3] = 11 + 15 = 26,\n",
    "#     return [2, 3]."
   ]
  },
  {
   "cell_type": "code",
   "execution_count": null,
   "metadata": {},
   "outputs": [],
   "source": [
    "# Solution\n",
    "\n"
   ]
  },
  {
   "cell_type": "markdown",
   "metadata": {},
   "source": [
    "### [Move to Top](#Table-of-Contents---Array)"
   ]
  },
  {
   "cell_type": "markdown",
   "metadata": {},
   "source": [
    "### <center> The End </center>"
   ]
  }
 ],
 "metadata": {
  "kernelspec": {
   "display_name": "Python 3",
   "language": "python",
   "name": "python3"
  },
  "language_info": {
   "codemirror_mode": {
    "name": "ipython",
    "version": 3
   },
   "file_extension": ".py",
   "mimetype": "text/x-python",
   "name": "python",
   "nbconvert_exporter": "python",
   "pygments_lexer": "ipython3",
   "version": "3.7.3"
  }
 },
 "nbformat": 4,
 "nbformat_minor": 2
}
