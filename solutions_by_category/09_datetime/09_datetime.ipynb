{
 "cells": [
  {
   "cell_type": "markdown",
   "metadata": {},
   "source": [
    "# Table of Contents - Datetime\n",
    "\n",
    "- [convert](#convert) (See again)\n",
    "- [current time](#current-time)\n",
    "- [date time format](#date-time-format) (See Again)\n",
    "- [millisecond](#millisecond)\n",
    "- [subtract days](#subtract-days) (See Again)"
   ]
  },
  {
   "cell_type": "markdown",
   "metadata": {},
   "source": [
    "## convert"
   ]
  },
  {
   "cell_type": "code",
   "execution_count": null,
   "metadata": {},
   "outputs": [],
   "source": [
    "# Problem\n",
    "\n",
    "# Write a Python program to convert Year/Month/Day to Day of Year in Python "
   ]
  },
  {
   "cell_type": "code",
   "execution_count": 23,
   "metadata": {},
   "outputs": [
    {
     "data": {
      "text/plain": [
       "89"
      ]
     },
     "execution_count": 23,
     "metadata": {},
     "output_type": "execute_result"
    }
   ],
   "source": [
    "# Solution\n",
    "\n",
    "import datetime\n",
    "today = datetime.datetime.now()\n",
    "day_of_year = today.strftime('%j')   # output is in string format\n",
    "int(day_of_year)                     # need to convert into integer if we want to perform mathematical operations"
   ]
  },
  {
   "cell_type": "code",
   "execution_count": 24,
   "metadata": {},
   "outputs": [
    {
     "data": {
      "text/plain": [
       "89"
      ]
     },
     "execution_count": 24,
     "metadata": {},
     "output_type": "execute_result"
    }
   ],
   "source": [
    "# Solution2 (subtracting today from january 01 of same year)\n",
    "\n",
    "import datetime\n",
    "today = datetime.datetime.now()                                        # datetime.datetime(2020, 3, 29, 20, 38, 49, 955210)\n",
    "day_of_year = (today - datetime.datetime(today.year, 1, 1)).days + 1   # datetime.datetime(2020, 1, 1)  \n",
    "day_of_year"
   ]
  },
  {
   "cell_type": "markdown",
   "metadata": {},
   "source": [
    "## current time"
   ]
  },
  {
   "cell_type": "code",
   "execution_count": null,
   "metadata": {},
   "outputs": [],
   "source": [
    "# Problem\n",
    "\n",
    "# Write a Python program to get the current time in Python. "
   ]
  },
  {
   "cell_type": "code",
   "execution_count": 3,
   "metadata": {},
   "outputs": [
    {
     "name": "stdout",
     "output_type": "stream",
     "text": [
      "19:07:08.404098\n"
     ]
    }
   ],
   "source": [
    "# Solution\n",
    "\n",
    "import datetime\n",
    "\n",
    "print(datetime.datetime.now().time())"
   ]
  },
  {
   "cell_type": "markdown",
   "metadata": {},
   "source": [
    "## date time format"
   ]
  },
  {
   "cell_type": "code",
   "execution_count": null,
   "metadata": {},
   "outputs": [],
   "source": [
    "# Problem\n",
    "\n",
    "# Write a Python script to display the various Date Time formats.\n",
    "# a) Current date and time\n",
    "# b) Current year\n",
    "# c) Month of year\n",
    "# d) Week number of the year\n",
    "# e) Weekday of the week\n",
    "# f) Day of year\n",
    "# g) Day of the month\n",
    "# h) Day of week\n",
    "\n",
    "# strftime formats: https://strftime.org/"
   ]
  },
  {
   "cell_type": "code",
   "execution_count": 30,
   "metadata": {},
   "outputs": [
    {
     "name": "stdout",
     "output_type": "stream",
     "text": [
      "Current date and time:\t\t 2020-03-31 20:00:57.368307\n",
      "Current year:\t\t\t 2020\n",
      "Month of year:\t\t\t March\n",
      "Week number of the year:\t 13\n",
      "Weekday of the week:\t\t 2\n",
      "Day of year:\t\t\t 091\n",
      "Day of the month:\t\t 31\n",
      "Day of week:\t\t\t Tuesday\n"
     ]
    }
   ],
   "source": [
    "# Solution\n",
    "\n",
    "import datetime\n",
    "\n",
    "print('Current date and time:\\t\\t', datetime.datetime.now())\n",
    "print('Current year:\\t\\t\\t', datetime.date.today().strftime('%Y'))\n",
    "print('Month of year:\\t\\t\\t', datetime.date.today().strftime('%B'))\n",
    "print('Week number of the year:\\t', datetime.date.today().strftime('%W'))\n",
    "print('Weekday of the week:\\t\\t', datetime.date.today().strftime('%w'))\n",
    "print('Day of year:\\t\\t\\t', datetime.date.today().strftime('%j'))\n",
    "print('Day of the month:\\t\\t', datetime.date.today().strftime('%d'))\n",
    "print('Day of week:\\t\\t\\t', datetime.date.today().strftime('%A'))"
   ]
  },
  {
   "cell_type": "markdown",
   "metadata": {},
   "source": [
    "## millisecond"
   ]
  },
  {
   "cell_type": "code",
   "execution_count": null,
   "metadata": {},
   "outputs": [],
   "source": [
    "# Problem\n",
    "\n",
    "# Write a Python program to get current time in milliseconds in Python "
   ]
  },
  {
   "cell_type": "code",
   "execution_count": 10,
   "metadata": {},
   "outputs": [
    {
     "name": "stdout",
     "output_type": "stream",
     "text": [
      "1585661805356\n"
     ]
    }
   ],
   "source": [
    "# Solution\n",
    "\n",
    "import time\n",
    "\n",
    "print(int(time.time() * 1000))   # by default time will be a float value and it's is in second format"
   ]
  },
  {
   "cell_type": "markdown",
   "metadata": {},
   "source": [
    "## subtract days"
   ]
  },
  {
   "cell_type": "code",
   "execution_count": null,
   "metadata": {},
   "outputs": [],
   "source": [
    "# Problem\n",
    "\n",
    "# Write a Python program to subtract five days from current date "
   ]
  },
  {
   "cell_type": "code",
   "execution_count": 6,
   "metadata": {},
   "outputs": [
    {
     "name": "stdout",
     "output_type": "stream",
     "text": [
      "Today's date: 2020-03-30\n",
      "Five Day\\s before today: 2020-03-25\n"
     ]
    }
   ],
   "source": [
    "# Solution\n",
    "\n",
    "from datetime import date, timedelta\n",
    "\n",
    "date_today = date.today()\n",
    "five_days_before_today = date_today - timedelta(5)\n",
    "\n",
    "print('Today\\'s date:', date_today)\n",
    "print('Five Day\\s before today:', five_days_before_today)"
   ]
  },
  {
   "cell_type": "markdown",
   "metadata": {},
   "source": [
    "### [Move to Top](#Table-of-Contents---Datetime)"
   ]
  },
  {
   "cell_type": "markdown",
   "metadata": {},
   "source": [
    "### <center> The End </center>"
   ]
  }
 ],
 "metadata": {
  "kernelspec": {
   "display_name": "Python 3",
   "language": "python",
   "name": "python3"
  },
  "language_info": {
   "codemirror_mode": {
    "name": "ipython",
    "version": 3
   },
   "file_extension": ".py",
   "mimetype": "text/x-python",
   "name": "python",
   "nbconvert_exporter": "python",
   "pygments_lexer": "ipython3",
   "version": "3.7.3"
  }
 },
 "nbformat": 4,
 "nbformat_minor": 2
}
