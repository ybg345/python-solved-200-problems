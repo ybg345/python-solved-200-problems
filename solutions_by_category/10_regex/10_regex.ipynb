{
 "cells": [
  {
   "cell_type": "markdown",
   "metadata": {},
   "source": [
    "# Table of Contents - Regex\n",
    "\n",
    "- [all word contain 5 chracters](#all-word-contain-5-chracters)\n",
    "- [check string](#check-string)\n",
    "- [find substring](#find-substring)\n",
    "- [keep alphanumeric only](#keep-alphanumeric-only)\n",
    "- [remove parenthesis](#remove-parenthesis)\n",
    "- [remove white space](#remove-white-space)\n",
    "- [remove zero](#remove-zero)"
   ]
  },
  {
   "cell_type": "markdown",
   "metadata": {},
   "source": [
    "## all word contain 5 chracters"
   ]
  },
  {
   "cell_type": "code",
   "execution_count": null,
   "metadata": {},
   "outputs": [],
   "source": [
    "# Problem\n",
    "\n",
    "# Write a Python program to find all five characters long word in a string.\n",
    "\n",
    "# Input\n",
    "# 'The quick brown fox jumps over the lazy dog.'\n",
    "\n",
    "# Output\n",
    "# ['quick', 'brown', 'jumps']"
   ]
  },
  {
   "cell_type": "code",
   "execution_count": 7,
   "metadata": {},
   "outputs": [
    {
     "data": {
      "text/plain": [
       "['quick', 'brown', 'jumps']"
      ]
     },
     "execution_count": 7,
     "metadata": {},
     "output_type": "execute_result"
    }
   ],
   "source": [
    "# Solution\n",
    "\n",
    "import re\n",
    "\n",
    "string = 'The quick brown fox jumps over the lazy dog.'\n",
    "regex_pattern = r'\\b\\w{5}\\b'\n",
    "re.findall(regex_pattern, sentence)"
   ]
  },
  {
   "cell_type": "markdown",
   "metadata": {},
   "source": [
    "### Some Notes:\n",
    "\n",
    "- #### word characters (\\w) include alphanumeric characters (A-Z, a-z and 0-9) and underscores (_).\n",
    "\n",
    "- #### `\\b` assert position at a word boundary: (^\\w | \\w$| \\W\\w | \\w\\W).\n",
    "\n",
    "- #### There are three different positions that qualify as word boundaries `\\b`:\n",
    "      - Before the first character in the string, if the first character is a word character. (^\\w)\n",
    "      - After the last character in the string, if the last character is a word character. (\\w$)\n",
    "      - Between two characters in the string, where one is a word character & the other is not a word character \n",
    "      (\\W\\w | \\w\\W)\n",
    "      \n",
    "- ##### Live Demo: [https://regex101.com/r/lebiRJ/1](https://regex101.com/r/lebiRJ/1)"
   ]
  },
  {
   "cell_type": "markdown",
   "metadata": {},
   "source": [
    "## check string"
   ]
  },
  {
   "cell_type": "code",
   "execution_count": null,
   "metadata": {},
   "outputs": [],
   "source": [
    "# Problem\n",
    "\n",
    "# Write a Python program to check that a string contains only a certain set of characters (in this case a-z, A-Z and 0-9).\n",
    "\n",
    "# Input\n",
    "# \"ABCDEFabcdef123450\"\n",
    "# \"*&%@#!}{\"\n",
    "\n",
    "# Output\n",
    "# True                                                                                                          \n",
    "# False"
   ]
  },
  {
   "cell_type": "code",
   "execution_count": 11,
   "metadata": {},
   "outputs": [
    {
     "name": "stdout",
     "output_type": "stream",
     "text": [
      "True\n",
      "False\n"
     ]
    }
   ],
   "source": [
    "# Solution\n",
    "\n",
    "import re\n",
    "\n",
    "def match_charset(string):\n",
    "    pattern = r'[a-zA-Z0-9]+'\n",
    "    return bool(re.findall(pattern, string))\n",
    "\n",
    "print(match_charset(\"ABCDEFabcdef123450\"))\n",
    "print(match_charset(\"*&%@#!}{\"))"
   ]
  },
  {
   "cell_type": "markdown",
   "metadata": {},
   "source": [
    "## find substring"
   ]
  },
  {
   "cell_type": "code",
   "execution_count": null,
   "metadata": {},
   "outputs": [],
   "source": [
    "# Problem\n",
    "\n",
    "# Write a Python program to find the occurrence and position of the substrings within a string.\n",
    "# \n",
    "# Input\n",
    "# text = 'Python exercises, PHP exercises, C# exercises'\n",
    "# pattern = 'exercises'\n",
    "# \n",
    "# Output\n",
    "# Found \"exercises\" at 7:16                                                                                     \n",
    "# Found \"exercises\" at 22:31                                                                                    \n",
    "# Found \"exercises\" at 36:45"
   ]
  },
  {
   "cell_type": "code",
   "execution_count": 18,
   "metadata": {},
   "outputs": [
    {
     "name": "stdout",
     "output_type": "stream",
     "text": [
      "Found \"exercises\" at 7:16\n",
      "Found \"exercises\" at 22:31\n",
      "Found \"exercises\" at 36:45\n"
     ]
    }
   ],
   "source": [
    "# Solution\n",
    "\n",
    "import re\n",
    "\n",
    "def find_substring(text, pattern):\n",
    "    for match in re.finditer(pattern, text):\n",
    "        s = match.start()\n",
    "        e = match.end()\n",
    "        print('Found \"{}\" at {}:{}'.format(pattern, s, e))\n",
    "        \n",
    "find_substring('Python exercises, PHP exercises, C# exercises', 'exercises')"
   ]
  },
  {
   "cell_type": "markdown",
   "metadata": {},
   "source": [
    "## keep alphanumeric only"
   ]
  },
  {
   "cell_type": "code",
   "execution_count": null,
   "metadata": {},
   "outputs": [],
   "source": [
    "# Problem\n",
    "\n",
    "# Write a Python program to remove everything except alphanumeric characters from a string.\n",
    "\n",
    "# Input\n",
    "# '**//Python Exercises// - 12. '\n",
    "\n",
    "# Output\n",
    "# PythonExercises12"
   ]
  },
  {
   "cell_type": "code",
   "execution_count": 28,
   "metadata": {},
   "outputs": [
    {
     "name": "stdout",
     "output_type": "stream",
     "text": [
      "PythonExercises12\n",
      "534345keep123\n"
     ]
    }
   ],
   "source": [
    "# Solution1\n",
    "\n",
    "import re\n",
    "\n",
    "def keep_alphanumeric(string):\n",
    "    pattern = r'[a-zA-Z0-9]'\n",
    "    return ''.join(re.findall(pattern, string))\n",
    "\n",
    "print(keep_alphanumeric('**//Python Exercises// - 12. '))\n",
    "print(keep_alphanumeric('534@!345#$keep%^ -*123'))"
   ]
  },
  {
   "cell_type": "code",
   "execution_count": 29,
   "metadata": {},
   "outputs": [
    {
     "name": "stdout",
     "output_type": "stream",
     "text": [
      "PythonExercises12\n"
     ]
    }
   ],
   "source": [
    "# Solution2\n",
    "\n",
    "import re\n",
    "\n",
    "text1 = '**//Python Exercises// - 12. '\n",
    "pattern = re.compile('[\\W_]+')      # re.compile() will compile a regular expression pattern, returning a Pattern object.\n",
    "print(pattern.sub('', text1))       # Return the string obtained by replacing the leftmost non-overlapping occurrences \n",
    "                                    # of pattern in string by the replacement repl."
   ]
  },
  {
   "cell_type": "markdown",
   "metadata": {},
   "source": [
    "## remove parenthesis"
   ]
  },
  {
   "cell_type": "code",
   "execution_count": null,
   "metadata": {},
   "outputs": [],
   "source": [
    "# Problem\n",
    "\n",
    "# Write a Python program to remove the parenthesis area in a string.\n",
    "# \n",
    "# Input\n",
    "# [\"example (.com)\", \"w3resource\", \"github (.com)\", \"stackoverflow (.com)\"]\n",
    "# \n",
    "# Output\n",
    "# example                                                                                                       \n",
    "# w3resource                                                                                                    \n",
    "# github                                                                                                        \n",
    "# stackoverflow "
   ]
  },
  {
   "cell_type": "code",
   "execution_count": null,
   "metadata": {},
   "outputs": [],
   "source": [
    "# Solution\n",
    "\n"
   ]
  },
  {
   "cell_type": "markdown",
   "metadata": {},
   "source": [
    "## remove white space"
   ]
  },
  {
   "cell_type": "code",
   "execution_count": null,
   "metadata": {},
   "outputs": [],
   "source": [
    "# Problem\n",
    "\n",
    "# Remove all whitespaces from a string\n",
    "# \n",
    "# Input\n",
    "# ' Python    Exercises '\n",
    "# Output\n",
    "# PythonExercises"
   ]
  },
  {
   "cell_type": "code",
   "execution_count": null,
   "metadata": {},
   "outputs": [],
   "source": [
    "# Solution\n",
    "\n"
   ]
  },
  {
   "cell_type": "markdown",
   "metadata": {},
   "source": [
    "## remove zero"
   ]
  },
  {
   "cell_type": "code",
   "execution_count": null,
   "metadata": {},
   "outputs": [],
   "source": [
    "# Problem\n",
    "\n",
    "# Write a Python program to remove leading zeros from an IP address.\n",
    "\n",
    "# Input\n",
    "# \"216.08.094.196\"\n",
    "\n",
    "# Output\n",
    "# 216.8.94.196"
   ]
  },
  {
   "cell_type": "code",
   "execution_count": null,
   "metadata": {},
   "outputs": [],
   "source": [
    "# Solution\n",
    "\n"
   ]
  },
  {
   "cell_type": "markdown",
   "metadata": {},
   "source": [
    "### [Move to Top](#Table-of-Contents---Regex)"
   ]
  },
  {
   "cell_type": "markdown",
   "metadata": {},
   "source": [
    "### <center> The End </center>"
   ]
  }
 ],
 "metadata": {
  "kernelspec": {
   "display_name": "Python 3",
   "language": "python",
   "name": "python3"
  },
  "language_info": {
   "codemirror_mode": {
    "name": "ipython",
    "version": 3
   },
   "file_extension": ".py",
   "mimetype": "text/x-python",
   "name": "python",
   "nbconvert_exporter": "python",
   "pygments_lexer": "ipython3",
   "version": "3.7.3"
  }
 },
 "nbformat": 4,
 "nbformat_minor": 2
}
