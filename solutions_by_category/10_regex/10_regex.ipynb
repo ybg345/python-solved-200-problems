{
 "cells": [
  {
   "cell_type": "markdown",
   "metadata": {},
   "source": [
    "# Table of Contents - Regex\n",
    "\n",
    "- [all word contain 5 chracters](#all-word-contain-5-chracters)\n",
    "- [check string](#check-string)\n",
    "- [find substring](#find-substring)\n",
    "- [keep alphanumeric only](#keep-alphanumeric-only)\n",
    "- [remove parenthesis](#remove-parenthesis)\n",
    "- [remove white space](#remove-white-space)\n",
    "- [remove zero](#remove-zero)"
   ]
  },
  {
   "cell_type": "markdown",
   "metadata": {},
   "source": [
    "## all word contain 5 chracters"
   ]
  },
  {
   "cell_type": "code",
   "execution_count": null,
   "metadata": {},
   "outputs": [],
   "source": [
    "# Problem\n",
    "\n",
    "# Write a Python program to find all five characters long word in a string.\n",
    "\n",
    "# Input\n",
    "# 'The quick brown fox jumps over the lazy dog.'\n",
    "\n",
    "# Output\n",
    "# ['quick', 'brown', 'jumps']"
   ]
  },
  {
   "cell_type": "code",
   "execution_count": null,
   "metadata": {},
   "outputs": [],
   "source": [
    "# Solution\n",
    "\n"
   ]
  },
  {
   "cell_type": "markdown",
   "metadata": {},
   "source": [
    "## check string"
   ]
  },
  {
   "cell_type": "code",
   "execution_count": null,
   "metadata": {},
   "outputs": [],
   "source": [
    "# Problem\n",
    "\n",
    "# Write a Python program to check that a string contains only a certain set of characters (in this case a-z, A-Z and 0-9).\n",
    "\n",
    "# Input\n",
    "# \"ABCDEFabcdef123450\"\n",
    "# \"*&%@#!}{\"\n",
    "\n",
    "# Output\n",
    "# True                                                                                                          \n",
    "# False"
   ]
  },
  {
   "cell_type": "code",
   "execution_count": null,
   "metadata": {},
   "outputs": [],
   "source": [
    "# Solution\n",
    "\n"
   ]
  },
  {
   "cell_type": "markdown",
   "metadata": {},
   "source": [
    "## find substring"
   ]
  },
  {
   "cell_type": "code",
   "execution_count": null,
   "metadata": {},
   "outputs": [],
   "source": [
    "# Problem\n",
    "\n",
    "# Write a Python program to find the occurrence and position of the substrings within a string.\n",
    "# \n",
    "# Input\n",
    "# text = 'Python exercises, PHP exercises, C# exercises'\n",
    "# pattern = 'exercises'\n",
    "# \n",
    "# Output\n",
    "# Found \"exercises\" at 7:16                                                                                     \n",
    "# Found \"exercises\" at 22:31                                                                                    \n",
    "# Found \"exercises\" at 36:45"
   ]
  },
  {
   "cell_type": "code",
   "execution_count": null,
   "metadata": {},
   "outputs": [],
   "source": [
    "# Solution\n",
    "\n"
   ]
  },
  {
   "cell_type": "markdown",
   "metadata": {},
   "source": [
    "## keep alphanumeric only"
   ]
  },
  {
   "cell_type": "code",
   "execution_count": null,
   "metadata": {},
   "outputs": [],
   "source": [
    "# Problem\n",
    "\n",
    "# Write a Python program to remove everything except alphanumeric characters from a string.\n",
    "\n",
    "# Input\n",
    "# '**//Python Exercises// - 12. '\n",
    "\n",
    "# Output\n",
    "# PythonExercises12"
   ]
  },
  {
   "cell_type": "code",
   "execution_count": null,
   "metadata": {},
   "outputs": [],
   "source": [
    "# Solution\n",
    "\n"
   ]
  },
  {
   "cell_type": "markdown",
   "metadata": {},
   "source": [
    "## remove parenthesis"
   ]
  },
  {
   "cell_type": "code",
   "execution_count": null,
   "metadata": {},
   "outputs": [],
   "source": [
    "# Problem\n",
    "\n",
    "# Write a Python program to remove the parenthesis area in a string.\n",
    "# \n",
    "# Input\n",
    "# [\"example (.com)\", \"w3resource\", \"github (.com)\", \"stackoverflow (.com)\"]\n",
    "# \n",
    "# Output\n",
    "# example                                                                                                       \n",
    "# w3resource                                                                                                    \n",
    "# github                                                                                                        \n",
    "# stackoverflow "
   ]
  },
  {
   "cell_type": "code",
   "execution_count": null,
   "metadata": {},
   "outputs": [],
   "source": [
    "# Solution\n",
    "\n"
   ]
  },
  {
   "cell_type": "markdown",
   "metadata": {},
   "source": [
    "## remove white space"
   ]
  },
  {
   "cell_type": "code",
   "execution_count": null,
   "metadata": {},
   "outputs": [],
   "source": [
    "# Problem\n",
    "\n",
    "# Remove all whitespaces from a string\n",
    "# \n",
    "# Input\n",
    "# ' Python    Exercises '\n",
    "# Output\n",
    "# PythonExercises"
   ]
  },
  {
   "cell_type": "code",
   "execution_count": null,
   "metadata": {},
   "outputs": [],
   "source": [
    "# Solution\n",
    "\n"
   ]
  },
  {
   "cell_type": "markdown",
   "metadata": {},
   "source": [
    "## remove zero"
   ]
  },
  {
   "cell_type": "code",
   "execution_count": null,
   "metadata": {},
   "outputs": [],
   "source": [
    "# Problem\n",
    "\n",
    "# Write a Python program to remove leading zeros from an IP address.\n",
    "\n",
    "# Input\n",
    "# \"216.08.094.196\"\n",
    "\n",
    "# Output\n",
    "# 216.8.94.196"
   ]
  },
  {
   "cell_type": "code",
   "execution_count": null,
   "metadata": {},
   "outputs": [],
   "source": [
    "# Solution\n",
    "\n"
   ]
  },
  {
   "cell_type": "markdown",
   "metadata": {},
   "source": [
    "### [Move to Top](#Table-of-Contents---Regex)"
   ]
  },
  {
   "cell_type": "markdown",
   "metadata": {},
   "source": [
    "### <center> The End </center>"
   ]
  }
 ],
 "metadata": {
  "kernelspec": {
   "display_name": "Python 3",
   "language": "python",
   "name": "python3"
  },
  "language_info": {
   "codemirror_mode": {
    "name": "ipython",
    "version": 3
   },
   "file_extension": ".py",
   "mimetype": "text/x-python",
   "name": "python",
   "nbconvert_exporter": "python",
   "pygments_lexer": "ipython3",
   "version": "3.7.3"
  }
 },
 "nbformat": 4,
 "nbformat_minor": 2
}
