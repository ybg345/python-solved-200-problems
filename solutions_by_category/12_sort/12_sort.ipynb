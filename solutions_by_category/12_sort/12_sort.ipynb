{
 "cells": [
  {
   "cell_type": "markdown",
   "metadata": {},
   "source": [
    "# Table of Contents - Sort\n",
    "\n",
    "- [buble sort implement](#buble-sort-implement)\n",
    "- [insertion sort implement](#insertion-sort-implement)\n",
    "- [selection sort implement](#selection-sort-implement)\n",
    "- [shell sort implement](#shell-sort-implement)\n",
    "- [merge sort implement](#merge-sort-implement)\n",
    "- [quick sort implement](#quick-sort-implement)"
   ]
  },
  {
   "cell_type": "markdown",
   "metadata": {},
   "source": [
    "## buble sort implement"
   ]
  },
  {
   "cell_type": "code",
   "execution_count": null,
   "metadata": {},
   "outputs": [],
   "source": [
    "# Problem\n",
    "\n",
    "# Write a Python program to sort a list of elements using the bubble sort algorithm."
   ]
  },
  {
   "cell_type": "markdown",
   "metadata": {},
   "source": [
    "### Note \n",
    "\n",
    "According to Wikipedia \"Bubble sort, sometimes referred to as sinking sort, is a simple sorting algorithm that repeatedly steps through the list to be sorted, compares **each pair of adjacent items** and swaps them if they are in the wrong order. \n",
    "\n",
    "The pass through the list is **repeated until no swaps are needed**, which indicates that the list is sorted. \n",
    "\n",
    "The algorithm, which is a comparison sort, is named for the way **smaller elements \"bubble\" to the top of the list**. \n",
    "\n",
    "Although the algorithm is simple, it is too slow and impractical for most problems even when compared to insertion sort. It can be practical if the input is usually in sort order but may occasionally have some out-of-order elements nearly in position.\n",
    "\n",
    "![Animation](https://stackabuse.s3.amazonaws.com/media/bubble-sort-in-java-1.gif)"
   ]
  },
  {
   "cell_type": "markdown",
   "metadata": {},
   "source": [
    "### [More Example](https://www.w3resource.com/w3r_images/bubble-short.png)"
   ]
  },
  {
   "cell_type": "code",
   "execution_count": 5,
   "metadata": {},
   "outputs": [
    {
     "name": "stdout",
     "output_type": "stream",
     "text": [
      "[14, 21, 27, 41, 43, 45, 46, 57, 70]\n",
      "[1, 3, 4, 5, 7, 8, 9]\n",
      "[1, 2, 4, 5, 8]\n"
     ]
    }
   ],
   "source": [
    "# Solution 1\n",
    "\n",
    "def bubble_sort(arr):\n",
    "    arr_len = len(arr)\n",
    "    \n",
    "    for i in range(arr_len):\n",
    "        for j in range(arr_len - 1):       # The last pair of adjacent elements is (n-2, n-1)\n",
    "            if arr[j] > arr[j + 1]:\n",
    "                arr[j], arr[j + 1] = arr[j + 1], arr[j]\n",
    "                \n",
    "    return arr\n",
    "\n",
    "print(bubble_sort([14, 46, 43, 27, 57, 41, 45, 21, 70]))\n",
    "print(bubble_sort([8, 5, 3, 1, 4, 7, 9]))\n",
    "print(bubble_sort([5, 1, 4, 2, 8]))"
   ]
  },
  {
   "cell_type": "code",
   "execution_count": 7,
   "metadata": {},
   "outputs": [
    {
     "name": "stdout",
     "output_type": "stream",
     "text": [
      "[14, 21, 27, 41, 43, 45, 46, 57, 70]\n",
      "[1, 3, 4, 5, 7, 8, 9]\n",
      "[1, 2, 4, 5, 8]\n"
     ]
    }
   ],
   "source": [
    "# Solution 2\n",
    "\n",
    "def bubble_sort(arr):\n",
    "    arr_len = len(arr) - 1\n",
    "    \n",
    "    for i in range(arr_len):\n",
    "        for j in range(arr_len - i):     # at each loop we will compare the current j with next value\n",
    "            if arr[j] > arr[j + 1]:      # will continue to swap as long as current j value > next j value\n",
    "                arr[j], arr[j + 1] = arr[j + 1], arr[j]\n",
    "                \n",
    "    return arr\n",
    "        \n",
    "print(bubble_sort([14, 46, 43, 27, 57, 41, 45, 21, 70]))\n",
    "print(bubble_sort([8, 5, 3, 1, 4, 7, 9]))\n",
    "print(bubble_sort([5, 1, 4, 2, 8]))"
   ]
  },
  {
   "cell_type": "markdown",
   "metadata": {},
   "source": [
    "## insertion sort implement"
   ]
  },
  {
   "cell_type": "code",
   "execution_count": null,
   "metadata": {},
   "outputs": [],
   "source": [
    "# Problem\n",
    "\n",
    "# Write a Python program to sort a list of elements using the insertion sort algorithm.\n",
    "\n",
    "# Note: According to Wikipedia \"Insertion sort is a simple sorting algorithm that builds \n",
    "# the final sorted array (or list) one item at a time. It is much less efficient on large\n",
    "# lists than more advanced algorithms such as quicksort, heapsort, or merge sort.\""
   ]
  },
  {
   "cell_type": "code",
   "execution_count": null,
   "metadata": {},
   "outputs": [],
   "source": [
    "# Solution\n",
    "\n"
   ]
  },
  {
   "cell_type": "markdown",
   "metadata": {},
   "source": [
    "## selection sort implement"
   ]
  },
  {
   "cell_type": "code",
   "execution_count": null,
   "metadata": {},
   "outputs": [],
   "source": [
    "# Problem\n",
    "\n",
    "# Write a Python program to sort a list of elements using the selection sort algorithm.\n",
    "\n",
    "# Note : The selection sort improves on the bubble sort by making only one exchange for every pass through the list."
   ]
  },
  {
   "cell_type": "code",
   "execution_count": null,
   "metadata": {},
   "outputs": [],
   "source": [
    "# Solution\n",
    "\n"
   ]
  },
  {
   "cell_type": "markdown",
   "metadata": {},
   "source": [
    "## shell sort implement"
   ]
  },
  {
   "cell_type": "code",
   "execution_count": null,
   "metadata": {},
   "outputs": [],
   "source": [
    "# Problem\n",
    "\n",
    "# Write a Python program to sort a list of elements using shell sort algorithm.\n",
    "\n",
    "# Note : According to Wikipedia \"Shell sort or Shell's method, is an in-place comparison sort. \n",
    "\n",
    "# It can be seen as either a generalization of sorting by exchange (bubble sort) or sorting by insertion (insertion sort). \n",
    "\n",
    "# The method starts by sorting pairs of elements far apart from each other, then progressively reducing the gap between\n",
    "# elements to be compared. Starting with far apart elements can move some out-of-place elements into position faster than\n",
    "# a simple nearest neighbor exchange.\""
   ]
  },
  {
   "cell_type": "code",
   "execution_count": null,
   "metadata": {},
   "outputs": [],
   "source": [
    "# Solution\n",
    "\n"
   ]
  },
  {
   "cell_type": "markdown",
   "metadata": {},
   "source": [
    "## merge sort implement"
   ]
  },
  {
   "cell_type": "code",
   "execution_count": null,
   "metadata": {},
   "outputs": [],
   "source": [
    "# Problem\n",
    "\n",
    "# Write a Python program to sort a list of elements using the merge sort algorithm.\n",
    "\n",
    "# Note: According to Wikipedia \"Merge sort (also commonly spelled mergesort) is an O (n log n)\n",
    "# comparison-based sorting algorithm. Most implementations produce a stable sort, which means that \n",
    "# the implementation preserves the input order of equal elements in the sorted output.\"\n",
    "\n",
    "# Algorithm:\n",
    "# =========\n",
    "# Conceptually, a merge sort works as follows :\n",
    "# Divide the unsorted list into n sublists, each containing 1 element (a list of 1 element is considered sorted).\n",
    "\n",
    "# Repeatedly merge sublists to produce new sorted sublists until there is only 1 sublist remaining. \n",
    "# This will be the sorted list."
   ]
  },
  {
   "cell_type": "code",
   "execution_count": null,
   "metadata": {},
   "outputs": [],
   "source": [
    "# Solution\n",
    "\n"
   ]
  },
  {
   "cell_type": "markdown",
   "metadata": {},
   "source": [
    "## quick sort implement"
   ]
  },
  {
   "cell_type": "code",
   "execution_count": null,
   "metadata": {},
   "outputs": [],
   "source": [
    "# Problem\n",
    "\n",
    "# Write a Python program to sort a list of elements using the quick sort algorithm.\n",
    "\n",
    "# Note : According to Wikipedia \"Quicksort is a comparison sort, meaning that it can \n",
    "# sort items of any type for which a \"less-than\" relation (formally, a total order) is defined. \n",
    "\n",
    "# In efficient implementations it is not a stable sort, meaning that the relative order of equal \n",
    "# sort items is not preserved. \n",
    "\n",
    "# Quicksort can operate in-place on an array, requiring small additional amounts of memory to perform the sorting.\""
   ]
  },
  {
   "cell_type": "code",
   "execution_count": null,
   "metadata": {},
   "outputs": [],
   "source": [
    "# Solution\n",
    "\n"
   ]
  },
  {
   "cell_type": "markdown",
   "metadata": {},
   "source": [
    "### [Move to Top](#Table-of-Contents---Sort)"
   ]
  },
  {
   "cell_type": "markdown",
   "metadata": {},
   "source": [
    "### <center> The End </center>"
   ]
  }
 ],
 "metadata": {
  "kernelspec": {
   "display_name": "Python 3",
   "language": "python",
   "name": "python3"
  },
  "language_info": {
   "codemirror_mode": {
    "name": "ipython",
    "version": 3
   },
   "file_extension": ".py",
   "mimetype": "text/x-python",
   "name": "python",
   "nbconvert_exporter": "python",
   "pygments_lexer": "ipython3",
   "version": "3.7.3"
  }
 },
 "nbformat": 4,
 "nbformat_minor": 2
}
