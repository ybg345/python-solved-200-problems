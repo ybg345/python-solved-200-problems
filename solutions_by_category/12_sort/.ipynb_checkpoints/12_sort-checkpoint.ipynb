{
 "cells": [
  {
   "cell_type": "markdown",
   "metadata": {},
   "source": [
    "# Table of Contents - Sort\n",
    "\n",
    "- [buble sort implement](#buble-sort-implement) (see again)\n",
    "- [insertion sort implement](#insertion-sort-implement) (see again)\n",
    "- [selection sort implement](#selection-sort-implement) (see again)\n",
    "- [shell sort implement](#shell-sort-implement) (see again)\n",
    "- [merge sort implement](#merge-sort-implement) (see again)\n",
    "- [quick sort implement](#quick-sort-implement) (see again)"
   ]
  },
  {
   "cell_type": "markdown",
   "metadata": {},
   "source": [
    "## <center> [Animated view of all Sort Algorithm](https://visualgo.net/bn/sorting) </center>"
   ]
  },
  {
   "cell_type": "markdown",
   "metadata": {},
   "source": [
    "## buble sort implement"
   ]
  },
  {
   "cell_type": "code",
   "execution_count": null,
   "metadata": {},
   "outputs": [],
   "source": [
    "# Problem\n",
    "\n",
    "# Write a Python program to sort a list of elements using the bubble sort algorithm."
   ]
  },
  {
   "cell_type": "markdown",
   "metadata": {},
   "source": [
    "### Note \n",
    "\n",
    "According to Wikipedia \"Bubble sort, sometimes referred to as sinking sort, is a simple sorting algorithm that repeatedly steps through the list to be sorted, compares **each pair of adjacent items** and swaps them if they are in the wrong order. \n",
    "\n",
    "The pass through the list is **repeated until no swaps are needed**, which indicates that the list is sorted. \n",
    "\n",
    "The algorithm, which is a comparison sort, is named for the way **smaller elements \"bubble\" to the top of the list**. \n",
    "\n",
    "Although the algorithm is simple, it is too slow and impractical for most problems even when compared to insertion sort. It can be practical if the input is usually in sort order but may occasionally have some out-of-order elements nearly in position."
   ]
  },
  {
   "cell_type": "markdown",
   "metadata": {},
   "source": [
    "<img src=\"https://stackabuse.s3.amazonaws.com/media/bubble-sort-in-java-1.gif\" width = 250 height = 200></img>"
   ]
  },
  {
   "cell_type": "markdown",
   "metadata": {},
   "source": [
    "### [More Example](https://www.w3resource.com/w3r_images/bubble-short.png)"
   ]
  },
  {
   "cell_type": "code",
   "execution_count": 5,
   "metadata": {},
   "outputs": [
    {
     "name": "stdout",
     "output_type": "stream",
     "text": [
      "[14, 21, 27, 41, 43, 45, 46, 57, 70]\n",
      "[1, 3, 4, 5, 7, 8, 9]\n",
      "[1, 2, 4, 5, 8]\n"
     ]
    }
   ],
   "source": [
    "# Solution 1\n",
    "\n",
    "def bubble_sort(arr):\n",
    "    arr_len = len(arr)\n",
    "    \n",
    "    for i in range(arr_len):\n",
    "        for j in range(arr_len - 1):       # The last pair of adjacent elements is (n-2, n-1)\n",
    "            if arr[j] > arr[j + 1]:\n",
    "                arr[j], arr[j + 1] = arr[j + 1], arr[j]\n",
    "                \n",
    "    return arr\n",
    "\n",
    "print(bubble_sort([14, 46, 43, 27, 57, 41, 45, 21, 70]))\n",
    "print(bubble_sort([8, 5, 3, 1, 4, 7, 9]))\n",
    "print(bubble_sort([5, 1, 4, 2, 8]))"
   ]
  },
  {
   "cell_type": "code",
   "execution_count": 7,
   "metadata": {},
   "outputs": [
    {
     "name": "stdout",
     "output_type": "stream",
     "text": [
      "[14, 21, 27, 41, 43, 45, 46, 57, 70]\n",
      "[1, 3, 4, 5, 7, 8, 9]\n",
      "[1, 2, 4, 5, 8]\n"
     ]
    }
   ],
   "source": [
    "# Solution 2\n",
    "\n",
    "def bubble_sort(arr):\n",
    "    arr_len = len(arr) - 1\n",
    "    \n",
    "    for i in range(arr_len):\n",
    "        for j in range(arr_len - i):     # at each loop we will compare the current j with next value\n",
    "            if arr[j] > arr[j + 1]:      # will continue to swap as long as current j value > next j value\n",
    "                arr[j], arr[j + 1] = arr[j + 1], arr[j]\n",
    "                \n",
    "    return arr\n",
    "        \n",
    "print(bubble_sort([14, 46, 43, 27, 57, 41, 45, 21, 70]))\n",
    "print(bubble_sort([8, 5, 3, 1, 4, 7, 9]))\n",
    "print(bubble_sort([5, 1, 4, 2, 8]))"
   ]
  },
  {
   "cell_type": "markdown",
   "metadata": {},
   "source": [
    "## insertion sort implement"
   ]
  },
  {
   "cell_type": "code",
   "execution_count": null,
   "metadata": {},
   "outputs": [],
   "source": [
    "# Problem\n",
    "\n",
    "# Write a Python program to sort a list of elements using the insertion sort algorithm.\n",
    "\n",
    "# Note: According to Wikipedia \"Insertion sort is a simple sorting algorithm that builds \n",
    "# the final sorted array (or list) one item at a time. It is much less efficient on large\n",
    "# lists than more advanced algorithms such as quicksort, heapsort, or merge sort.\""
   ]
  },
  {
   "cell_type": "markdown",
   "metadata": {},
   "source": [
    "<img src=\"https://upload.wikimedia.org/wikipedia/commons/9/9c/Insertion-sort-example.gif\" width = 250 height = 200></img>\n",
    "\n",
    "### [Visualize below Solution](http://pythontutor.com/visualize.html#code=def%20insertion_sort%28arr%29%3A%0A%20%20%20%20for%20i%20in%20range%281,%20len%28arr%29%29%3A%20%20%20%23%20We%20have%20start%20from%201%20since%20the%20first%20element%20is%20trivially%20sorted%0A%20%20%20%20%20%20%20%20current_value%20%3D%20arr%5Bi%5D%0A%20%20%20%20%20%20%20%20current_position%20%3D%20i%0A%20%20%20%20%20%20%20%20%0A%20%20%20%20%20%20%20%20while%20current_position%20%3E%200%20and%20arr%5Bcurrent_position%20-%201%5D%20%3E%20current_value%3A%0A%20%20%20%20%20%20%20%20%20%20%20%20arr%5Bcurrent_position%5D%20%3D%20arr%5Bcurrent_position%20-%201%5D%0A%20%20%20%20%20%20%20%20%20%20%20%20current_position%20-%3D%201%0A%20%20%20%20%20%20%20%20%20%20%20%20%0A%20%20%20%20%20%20%20%20arr%5Bcurrent_position%5D%20%3D%20current_value%0A%20%20%20%20%20%20%20%20%0A%20%20%20%20return%20arr%0A%20%20%20%20%20%20%20%20%20%20%20%20%0Aprint%28insertion_sort%28%5B6,%205,%203,%201,%208,%207,%202,%204%5D%29%29&cumulative=false&curInstr=0&heapPrimitives=nevernest&mode=display&origin=opt-frontend.js&py=3&rawInputLstJSON=%5B%5D&textReferences=false)"
   ]
  },
  {
   "cell_type": "code",
   "execution_count": 10,
   "metadata": {},
   "outputs": [
    {
     "name": "stdout",
     "output_type": "stream",
     "text": [
      "[2, 3, 4, 6, 9, 14, 16, 21, 22, 27, 29, 30, 34, 36, 37, 39, 40, 41, 42, 47]\n",
      "[1, 2, 3, 4, 5, 6, 7, 8]\n"
     ]
    }
   ],
   "source": [
    "# Solution (https://stackabuse.com/insertion-sort-in-python/)\n",
    "\n",
    "def insertion_sort(arr):\n",
    "    for i in range(1, len(arr)):   # We have start from 1 since the first element is trivially sorted\n",
    "        current_value = arr[i]\n",
    "        current_position = i\n",
    "        \n",
    "        while current_position > 0 and arr[current_position - 1] > current_value:\n",
    "            arr[current_position] = arr[current_position - 1]\n",
    "            current_position -= 1\n",
    "            \n",
    "        arr[current_position] = current_value\n",
    "        \n",
    "    return arr\n",
    "            \n",
    "print(insertion_sort([4, 22, 41, 40, 27, 30, 36, 16, 42, 37, 14, 39, 3, 6, 34, 9, 21, 2, 29, 47]))\n",
    "print(insertion_sort([6, 5, 3, 1, 8, 7, 2, 4]))"
   ]
  },
  {
   "cell_type": "markdown",
   "metadata": {},
   "source": [
    "## selection sort implement"
   ]
  },
  {
   "cell_type": "code",
   "execution_count": null,
   "metadata": {},
   "outputs": [],
   "source": [
    "# Problem\n",
    "\n",
    "# Write a Python program to sort a list of elements using the selection sort algorithm.\n",
    "\n",
    "# Note : The selection sort improves on the bubble sort by making only one exchange for every pass through the list."
   ]
  },
  {
   "cell_type": "markdown",
   "metadata": {},
   "source": [
    "<img src=\"https://i0.wp.com/algorithms.tutorialhorizon.com/files/2019/01/Selection-Sort-Gif.gif?ssl=1\" width = 250 height = 200></img>"
   ]
  },
  {
   "cell_type": "markdown",
   "metadata": {},
   "source": [
    "### [Better Visualization with more Control](http://www.cs.armstrong.edu/liang/animation/web/SelectionSort.html)"
   ]
  },
  {
   "cell_type": "code",
   "execution_count": 12,
   "metadata": {},
   "outputs": [
    {
     "name": "stdout",
     "output_type": "stream",
     "text": [
      "[1, 3, 26, 41, 53, 59, 59]\n",
      "[5, 21, 25, 31, 32, 42, 45, 53, 57, 66, 67, 76, 79, 82, 95, 44]\n"
     ]
    }
   ],
   "source": [
    "# Solution\n",
    "\n",
    "def selection_sort(arr):\n",
    "    for i in range(len(arr) - 1):\n",
    "        min_index = i                    # assuming the first value in each iteration is the minimum\n",
    "        \n",
    "        for j in range(i+1, len(arr)-1): # then looping through the rest of the elements\n",
    "            if arr[j] < arr[min_index]:  # if we find a minumum value then assumed minimum we swap it\n",
    "                min_index = j            # change then min_index value with the newly found minimum value index\n",
    "                \n",
    "        arr[i], arr[min_index] = arr[min_index], arr[i]\n",
    "        \n",
    "    return arr\n",
    "\n",
    "print(selection_sort([3, 1, 41, 59, 26, 53, 59]))\n",
    "print(selection_sort([42, 21, 66, 31, 57, 95, 79, 76, 53, 45, 67, 82, 32, 25, 5, 44]))"
   ]
  },
  {
   "cell_type": "markdown",
   "metadata": {},
   "source": [
    "## shell sort implement"
   ]
  },
  {
   "cell_type": "code",
   "execution_count": null,
   "metadata": {},
   "outputs": [],
   "source": [
    "# Problem\n",
    "\n",
    "# Write a Python program to sort a list of elements using shell sort algorithm.\n",
    "\n",
    "# Note : According to Wikipedia \"Shell sort or Shell's method, is an in-place comparison sort. \n",
    "\n",
    "# It can be seen as either a generalization of sorting by exchange (bubble sort) or sorting by insertion (insertion sort). \n",
    "\n",
    "# The method starts by sorting pairs of elements far apart from each other, then progressively reducing the gap between\n",
    "# elements to be compared. Starting with far apart elements can move some out-of-place elements into position faster than\n",
    "# a simple nearest neighbor exchange.\""
   ]
  },
  {
   "cell_type": "markdown",
   "metadata": {},
   "source": [
    "### [Understand how the algorithm works](https://www.tutorialspoint.com/data_structures_algorithms/shell_sort_algorithm.htm)\n",
    "\n",
    "[Code Ref](https://www.programiz.com/dsa/shell-sort)   \n",
    "[Step by Step Execution](http://pythontutor.com/visualize.html#code=def%20shell_sort%28arr%29%3A%0A%20%20%20%20n%20%3D%20len%28arr%29%0A%20%20%20%20interval%20%3D%20n%20//%202%0A%20%20%20%20%0A%20%20%20%20while%28interval%20%3E%200%29%3A%0A%20%20%20%20%20%20%20%20for%20i%20in%20range%28interval,%20n%29%3A%0A%20%20%20%20%20%20%20%20%20%20%20%20temp%20%3D%20arr%5Bi%5D%0A%20%20%20%20%20%20%20%20%20%20%20%20j%20%3D%20i%0A%20%20%20%20%20%20%20%20%20%20%20%20%0A%20%20%20%20%20%20%20%20%20%20%20%20while%20j%20%3E%3D%20interval%20and%20arr%5Bj%20-%20interval%5D%20%3E%20temp%3A%0A%20%20%20%20%20%20%20%20%20%20%20%20%20%20%20%20arr%5Bj%5D%20%3D%20arr%5Bj%20-%20interval%5D%0A%20%20%20%20%20%20%20%20%20%20%20%20%20%20%20%20j%20%3D%20j%20-%20interval%0A%20%20%20%20%20%20%20%20%20%20%20%20%20%20%20%20%0A%20%20%20%20%20%20%20%20%20%20%20%20arr%5Bj%5D%20%3D%20temp%0A%20%20%20%20%20%20%20%20%20%20%20%20%0A%20%20%20%20%20%20%20%20interval%20%3D%20interval%20//%202%0A%20%20%20%20%20%20%20%20%0A%20%20%20%20return%20arr%0A%0Aprint%28shell_sort%28%5B9,%208,%203,%207,%205,%206,%204,%201%5D%29%29&cumulative=false&curInstr=0&heapPrimitives=nevernest&mode=display&origin=opt-frontend.js&py=3&rawInputLstJSON=%5B%5D&textReferences=false)"
   ]
  },
  {
   "cell_type": "code",
   "execution_count": 5,
   "metadata": {},
   "outputs": [
    {
     "data": {
      "image/jpeg": "[encoded data removed]",
      "text/html": [
       "\n",
       "        <iframe\n",
       "            width=\"980\"\n",
       "            height=\"400\"\n",
       "            src=\"https://www.youtube.com/embed/1yDcmjLTWOg\"\n",
       "            frameborder=\"0\"\n",
       "            allowfullscreen\n",
       "        ></iframe>\n",
       "        "
      ],
      "text/plain": [
       "<IPython.lib.display.YouTubeVideo at 0x2838866bbe0>"
      ]
     },
     "execution_count": 5,
     "metadata": {},
     "output_type": "execute_result"
    }
   ],
   "source": [
    "from IPython.display import YouTubeVideo\n",
    "\n",
    "YouTubeVideo('1yDcmjLTWOg', width = 980, height = 400)"
   ]
  },
  {
   "cell_type": "code",
   "execution_count": 9,
   "metadata": {},
   "outputs": [
    {
     "name": "stdout",
     "output_type": "stream",
     "text": [
      "[1, 3, 4, 5, 6, 7, 8, 9]\n",
      "[2, 24, 27, 34, 61, 109, 111, 119, 122, 125, 145, 149]\n"
     ]
    }
   ],
   "source": [
    "# Solution\n",
    "\n",
    "def shell_sort(arr):\n",
    "    n = len(arr)\n",
    "    interval = n // 2\n",
    "    \n",
    "    while(interval > 0):\n",
    "        for i in range(interval, n):\n",
    "            temp = arr[i]\n",
    "            j = i\n",
    "            \n",
    "            while j >= interval and arr[j - interval] > temp:\n",
    "                arr[j] = arr[j - interval]\n",
    "                j = j - interval\n",
    "                \n",
    "            arr[j] = temp\n",
    "            \n",
    "        interval = interval // 2\n",
    "        \n",
    "    return arr\n",
    "\n",
    "print(shell_sort([9, 8, 3, 7, 5, 6, 4, 1]))\n",
    "print(shell_sort([24, 27, 2, 61, 109, 122, 111, 119, 149, 125, 34, 145]))"
   ]
  },
  {
   "cell_type": "markdown",
   "metadata": {},
   "source": [
    "## merge sort implement"
   ]
  },
  {
   "cell_type": "code",
   "execution_count": null,
   "metadata": {},
   "outputs": [],
   "source": [
    "# Problem\n",
    "\n",
    "# Write a Python program to sort a list of elements using the merge sort algorithm.\n",
    "\n",
    "# Note: According to Wikipedia \"Merge sort (also commonly spelled mergesort) is an O (n log n)\n",
    "# comparison-based sorting algorithm. Most implementations produce a stable sort, which means that \n",
    "# the implementation preserves the input order of equal elements in the sorted output.\"\n",
    "\n",
    "# Algorithm:\n",
    "# =========\n",
    "# Conceptually, a merge sort works as follows :\n",
    "# Divide the unsorted list into n sublists, each containing 1 element (a list of 1 element is considered sorted).\n",
    "\n",
    "# Repeatedly merge sublists to produce new sorted sublists until there is only 1 sublist remaining. \n",
    "# This will be the sorted list."
   ]
  },
  {
   "cell_type": "markdown",
   "metadata": {},
   "source": [
    "### [General Controlled Visualization](https://www.hackerearth.com/practice/algorithms/sorting/merge-sort/visualize/)"
   ]
  },
  {
   "cell_type": "markdown",
   "metadata": {},
   "source": [
    "<img src=\"https://upload.wikimedia.org/wikipedia/commons/c/cc/Merge-sort-example-300px.gif\" width = 250 height = 200></img>"
   ]
  },
  {
   "cell_type": "markdown",
   "metadata": {},
   "source": [
    "[Reference](https://www.educative.io/edpresso/merge-sort-in-python) &nbsp;&nbsp;&nbsp;&nbsp;&nbsp;&nbsp;&nbsp;&nbsp;&nbsp;&nbsp;&nbsp;&nbsp;&nbsp;&nbsp;&nbsp;&nbsp;\n",
    "[Visualize below code](http://pythontutor.com/visualize.html#code=def%20merge_sort%28arr%29%3A%0A%20%20%20%20if%20len%28arr%29%20%3E%201%3A%0A%20%20%20%20%20%20%20%20mid%20%3D%20len%28arr%29%20//%202%0A%20%20%20%20%20%20%20%20left%20%3D%20arr%5B%3Amid%5D%0A%20%20%20%20%20%20%20%20right%20%3D%20arr%5Bmid%3A%5D%0A%20%20%20%20%20%20%20%20%0A%20%20%20%20%20%20%20%20%23%20recursive%20call%20on%20each%20half%0A%20%20%20%20%20%20%20%20merge_sort%28left%29%0A%20%20%20%20%20%20%20%20merge_sort%28right%29%0A%20%20%20%20%20%20%20%20%0A%20%20%20%20%20%20%20%20%23%20using%20two%20seperate%20iterators%20for%20traversing%20two%20half%0A%20%20%20%20%20%20%20%20i%20%3D%200%0A%20%20%20%20%20%20%20%20j%20%3D%200%0A%20%20%20%20%20%20%20%20%0A%20%20%20%20%20%20%20%20%23%20iterator%20for%20main%20array%0A%20%20%20%20%20%20%20%20k%20%3D%200%20%0A%20%20%20%20%20%20%20%20%0A%20%20%20%20%20%20%20%20while%20i%20%3C%20len%28left%29%20and%20j%20%3C%20len%28right%29%3A%0A%20%20%20%20%20%20%20%20%20%20%20%20if%20left%5Bi%5D%20%3C%20right%5Bj%5D%3A%0A%20%20%20%20%20%20%20%20%20%20%20%20%20%20%20%20arr%5Bk%5D%20%3D%20left%5Bi%5D%20%20%20%20%20%20%20%20%20%20%20%23%20setting%20the%20value%20from%20left%20half%0A%20%20%20%20%20%20%20%20%20%20%20%20%20%20%20%20i%20%2B%3D%201%20%20%20%20%20%20%0A%20%20%20%20%20%20%20%20%20%20%20%20else%3A%0A%20%20%20%20%20%20%20%20%20%20%20%20%20%20%20%20arr%5Bk%5D%20%3D%20right%5Bj%5D%20%20%20%20%20%20%20%20%20%20%23%20setting%20the%20value%20from%20right%20half%0A%20%20%20%20%20%20%20%20%20%20%20%20%20%20%20%20j%20%2B%3D%201%0A%20%20%20%20%20%20%20%20%20%20%20%20k%20%2B%3D%201%0A%20%20%20%20%20%20%20%20%20%20%20%20%0A%20%20%20%20%20%20%20%20%23%20we%20ran%20out%20of%20elements%20either%20in%20left%20or%20right%3B%20so%20we%20will%20go%20through%20the%20remaining%20elements%20and%20add%20them%0A%20%20%20%20%20%20%20%20while%20i%20%3C%20len%28left%29%3A%0A%20%20%20%20%20%20%20%20%20%20%20%20arr%5Bk%5D%20%3D%20left%5Bi%5D%0A%20%20%20%20%20%20%20%20%20%20%20%20i%20%2B%3D%201%0A%20%20%20%20%20%20%20%20%20%20%20%20k%20%2B%3D%201%0A%20%20%20%20%20%20%20%20%20%20%20%20%0A%20%20%20%20%20%20%20%20while%20j%20%3C%20len%28right%29%3A%0A%20%20%20%20%20%20%20%20%20%20%20%20arr%5Bk%5D%20%3D%20right%5Bj%5D%0A%20%20%20%20%20%20%20%20%20%20%20%20j%20%2B%3D%201%0A%20%20%20%20%20%20%20%20%20%20%20%20k%20%2B%3D%201%0A%20%20%20%20return%20arr%0A%0Aprint%28merge_sort%28%5B6,%205,%203,%201,%208,%207,%202,%204%5D%29%29&cumulative=false&curInstr=0&heapPrimitives=nevernest&mode=display&origin=opt-frontend.js&py=3&rawInputLstJSON=%5B%5D&textReferences=false)"
   ]
  },
  {
   "cell_type": "code",
   "execution_count": 23,
   "metadata": {},
   "outputs": [
    {
     "name": "stdout",
     "output_type": "stream",
     "text": [
      "[1, 2, 3, 4, 5, 6, 7, 8]\n",
      "[17, 20, 26, 31, 44, 54, 55, 77, 93]\n"
     ]
    }
   ],
   "source": [
    "# Solution\n",
    "\n",
    "def merge_sort(arr):\n",
    "    if len(arr) > 1:\n",
    "        mid = len(arr) // 2\n",
    "        left = arr[:mid]\n",
    "        right = arr[mid:]\n",
    "        \n",
    "        # recursive call on each half\n",
    "        merge_sort(left)\n",
    "        merge_sort(right)\n",
    "        \n",
    "        # using two seperate iterators for traversing two half\n",
    "        i = 0\n",
    "        j = 0\n",
    "        \n",
    "        # iterator for main array\n",
    "        k = 0 \n",
    "        \n",
    "        while i < len(left) and j < len(right):\n",
    "            if left[i] < right[j]:\n",
    "                arr[k] = left[i]           # setting the value from left half\n",
    "                i += 1      \n",
    "            else:\n",
    "                arr[k] = right[j]          # setting the value from right half\n",
    "                j += 1\n",
    "            k += 1\n",
    "            \n",
    "        # we ran out of elements either in left or right; so we will go through the remaining elements and add them\n",
    "        while i < len(left):\n",
    "            arr[k] = left[i]\n",
    "            i += 1\n",
    "            k += 1\n",
    "            \n",
    "        while j < len(right):\n",
    "            arr[k] = right[j]\n",
    "            j += 1\n",
    "            k += 1\n",
    "    return arr\n",
    "\n",
    "print(merge_sort([6, 5, 3, 1, 8, 7, 2, 4]))\n",
    "print(merge_sort([54, 26, 93, 17, 77, 31, 44, 55, 20]))"
   ]
  },
  {
   "cell_type": "markdown",
   "metadata": {},
   "source": [
    "## quick sort implement"
   ]
  },
  {
   "cell_type": "code",
   "execution_count": null,
   "metadata": {},
   "outputs": [],
   "source": [
    "# Problem\n",
    "\n",
    "# Write a Python program to sort a list of elements using the quick sort algorithm.\n",
    "\n",
    "# Note : According to Wikipedia \"Quicksort is a comparison sort, meaning that it can \n",
    "# sort items of any type for which a \"less-than\" relation (formally, a total order) is defined. \n",
    "\n",
    "# In efficient implementations it is not a stable sort, meaning that the relative order of equal \n",
    "# sort items is not preserved. \n",
    "\n",
    "# Quicksort can operate in-place on an array, requiring small additional amounts of memory to perform the sorting.\""
   ]
  },
  {
   "cell_type": "code",
   "execution_count": 39,
   "metadata": {},
   "outputs": [
    {
     "data": {
      "image/jpeg": "[encoded data removed]",
      "text/html": [
       "\n",
       "        <iframe\n",
       "            width=\"980\"\n",
       "            height=\"400\"\n",
       "            src=\"https://www.youtube.com/embed/8hHWpuAPBHo\"\n",
       "            frameborder=\"0\"\n",
       "            allowfullscreen\n",
       "        ></iframe>\n",
       "        "
      ],
      "text/plain": [
       "<IPython.lib.display.YouTubeVideo at 0x28389537438>"
      ]
     },
     "execution_count": 39,
     "metadata": {},
     "output_type": "execute_result"
    }
   ],
   "source": [
    "from IPython.display import YouTubeVideo\n",
    "\n",
    "YouTubeVideo('8hHWpuAPBHo', width = 980, height = 400)"
   ]
  },
  {
   "cell_type": "markdown",
   "metadata": {},
   "source": [
    "[Solution1 Ref](https://stackoverflow.com/questions/18262306/quicksort-with-python) &nbsp;&nbsp;&nbsp;&nbsp;&nbsp;&nbsp;&nbsp;\n",
    "[Solution2 Ref](https://stackabuse.com/quicksort-in-python/) &nbsp;&nbsp;&nbsp;&nbsp;&nbsp;&nbsp;&nbsp;\n",
    "[Controlled Animation](http://www.cs.armstrong.edu/liang/animation/web/QuickSortPartition.html)"
   ]
  },
  {
   "cell_type": "code",
   "execution_count": 40,
   "metadata": {},
   "outputs": [
    {
     "name": "stdout",
     "output_type": "stream",
     "text": [
      "[1, 3, 4, 5, 6, 7, 12, 15]\n",
      "[12]\n",
      "[12, 19, 21, 27, 28, 29, 31, 41, 44, 44, 58, 66, 76, 78, 83, 87, 88, 97, 99]\n"
     ]
    }
   ],
   "source": [
    "# Solution1\n",
    "\n",
    "def quick_sort(arr):\n",
    "    low, high, equal = [], [], []\n",
    "    \n",
    "    if len(arr) > 1:\n",
    "        pivot = arr[0]\n",
    "        \n",
    "        for i in arr:\n",
    "            if i < pivot:\n",
    "                low.append(i)\n",
    "            elif i > pivot:\n",
    "                high.append(i)\n",
    "            else:\n",
    "                equal.append(i)\n",
    "                \n",
    "        return sort(low) + equal + sort(high)\n",
    "    \n",
    "    else:\n",
    "        return arr\n",
    "    \n",
    "print(quick_sort([12,4,5,6,7,3,1,15]))\n",
    "print(quick_sort([12]))\n",
    "print(quick_sort([29,99,27,41,66,28,44,78,87,19,31,76,58,88,83,97,12,21,44]))"
   ]
  },
  {
   "cell_type": "code",
   "execution_count": 41,
   "metadata": {},
   "outputs": [
    {
     "name": "stdout",
     "output_type": "stream",
     "text": [
      "[12, 19, 21, 27, 28, 29, 31, 41, 44, 44, 58, 66, 76, 78, 83, 87, 88, 97, 99]\n"
     ]
    }
   ],
   "source": [
    "# Solution2\n",
    "\n",
    "def partition(array, start, end):\n",
    "    pivot = array[start]\n",
    "    low = start + 1\n",
    "    high = end\n",
    "\n",
    "    while True:\n",
    "        # If the current value we're looking at is larger than the pivot\n",
    "        # it's in the right place (right side of pivot) and we can move left,\n",
    "        # to the next element.\n",
    "        # We also need to make sure we haven't surpassed the low pointer, since that\n",
    "        # indicates we have already moved all the elements to their correct side of the pivot.\n",
    "        while low <= high and array[high] >= pivot:\n",
    "            high = high - 1\n",
    "\n",
    "        # Opposite process of the one above\n",
    "        while low <= high and array[low] <= pivot:\n",
    "            low = low + 1\n",
    "            \n",
    "\n",
    "        # We either found a value for both high and low that is out of order\n",
    "        # or low is higher than high, in which case we exit the loop\n",
    "        if low <= high:\n",
    "            array[low], array[high] = array[high], array[low]\n",
    "            # The loop continues\n",
    "        else:\n",
    "            # We exit out of the loop\n",
    "            break\n",
    "\n",
    "    array[start], array[high] = array[high], array[start]\n",
    "\n",
    "    return high\n",
    "\n",
    "\n",
    "def quick_sort(array, start, end):\n",
    "    if start >= end:\n",
    "        return\n",
    "\n",
    "    p = partition(array, start, end)\n",
    "    quick_sort(array, start, p-1)\n",
    "    quick_sort(array, p+1, end)\n",
    "    \n",
    "    \n",
    "\n",
    "array = [29,99,27,41,66,28,44,78,87,19,31,76,58,88,83,97,12,21,44]\n",
    "\n",
    "quick_sort(array, 0, len(array) - 1)\n",
    "print(array)"
   ]
  },
  {
   "cell_type": "markdown",
   "metadata": {},
   "source": [
    "### [Move to Top](#Table-of-Contents---Sort)"
   ]
  },
  {
   "cell_type": "markdown",
   "metadata": {},
   "source": [
    "### <center> The End </center>"
   ]
  }
 ],
 "metadata": {
  "kernelspec": {
   "display_name": "Python 3",
   "language": "python",
   "name": "python3"
  },
  "language_info": {
   "codemirror_mode": {
    "name": "ipython",
    "version": 3
   },
   "file_extension": ".py",
   "mimetype": "text/x-python",
   "name": "python",
   "nbconvert_exporter": "python",
   "pygments_lexer": "ipython3",
   "version": "3.7.3"
  }
 },
 "nbformat": 4,
 "nbformat_minor": 2
}
