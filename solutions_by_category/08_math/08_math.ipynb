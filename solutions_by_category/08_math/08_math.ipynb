{
 "cells": [
  {
   "cell_type": "markdown",
   "metadata": {},
   "source": [
    "# Table of Contents - Math\n",
    "\n",
    "- [binary to decimal](#binary-to-decimal) (See Again)\n",
    "- [flip a coin](#flip-a-coin) (See Again)\n",
    "- [random](#random)\n",
    "- [round up](#round-up) (See Again)\n",
    "- [standard deviation](#standard-deviation)"
   ]
  },
  {
   "cell_type": "markdown",
   "metadata": {},
   "source": [
    "## binary to decimal"
   ]
  },
  {
   "cell_type": "code",
   "execution_count": null,
   "metadata": {},
   "outputs": [],
   "source": [
    "# Problem\n",
    "\n",
    "# Write a Python program to convert a binary number to decimal number. "
   ]
  },
  {
   "cell_type": "code",
   "execution_count": 1,
   "metadata": {},
   "outputs": [
    {
     "data": {
      "text/plain": [
       "37"
      ]
     },
     "execution_count": 1,
     "metadata": {},
     "output_type": "execute_result"
    }
   ],
   "source": [
    "# Solution 1\n",
    "\n",
    "def binary_to_decimal(num):\n",
    "    return int(num, 2)          # cast input binary string into decimal integer value\n",
    "\n",
    "binary_to_decimal('100101')"
   ]
  },
  {
   "cell_type": "code",
   "execution_count": 16,
   "metadata": {},
   "outputs": [
    {
     "name": "stdout",
     "output_type": "stream",
     "text": [
      "Enter a binary number: 100101\n",
      "37\n"
     ]
    }
   ],
   "source": [
    "# Solution 2\n",
    "\n",
    "def binary_to_decimal(num):\n",
    "    \n",
    "    decimal = 0\n",
    "    \n",
    "    for i in range(len(num)):\n",
    "        digit = num.pop()       # Extract number from the right side (end) \n",
    "        if digit == '1':\n",
    "            decimal += pow(2, i)\n",
    "    return decimal\n",
    "\n",
    "binary = list(input('Enter a binary number: '))\n",
    "print(binary_to_decimal(binary))"
   ]
  },
  {
   "cell_type": "markdown",
   "metadata": {},
   "source": [
    "## flip a coin"
   ]
  },
  {
   "cell_type": "code",
   "execution_count": null,
   "metadata": {},
   "outputs": [],
   "source": [
    "# Problem\n",
    "\n",
    "\n",
    "# Write a Python program to flip a coin 1000 times and count heads and tails. "
   ]
  },
  {
   "cell_type": "code",
   "execution_count": 56,
   "metadata": {},
   "outputs": [
    {
     "name": "stdout",
     "output_type": "stream",
     "text": [
      "Head Count: 503\n",
      "Tail Count: 497\n"
     ]
    }
   ],
   "source": [
    "# Solution 1\n",
    "\n",
    "import random\n",
    "\n",
    "flip_result = ['head', 'tail']\n",
    "head_count, tail_count = 0, 0\n",
    "\n",
    "for i in range(1000):\n",
    "    if random.choice(flip_result) == 'head':\n",
    "        head_count += 1\n",
    "    else:\n",
    "        tail_count += 1\n",
    "\n",
    "print('Head Count:', head_count)\n",
    "print('Tail Count:', tail_count)"
   ]
  },
  {
   "cell_type": "code",
   "execution_count": 65,
   "metadata": {},
   "outputs": [
    {
     "name": "stdout",
     "output_type": "stream",
     "text": [
      "Head Count: 505\n",
      "Tail Count: 495\n"
     ]
    }
   ],
   "source": [
    "# Solution 2\n",
    "\n",
    "import random\n",
    "\n",
    "result = {'head': 0, 'tail': 0}\n",
    "sides = list(result.keys())\n",
    "\n",
    "for i in range(1000):\n",
    "    result[random.choice(sides)] += 1\n",
    "    \n",
    "print('Head Count:', result['head'])\n",
    "print('Tail Count:', result['tail'])"
   ]
  },
  {
   "cell_type": "markdown",
   "metadata": {},
   "source": [
    "## random"
   ]
  },
  {
   "cell_type": "code",
   "execution_count": null,
   "metadata": {},
   "outputs": [],
   "source": [
    "# Problem\n",
    "\n",
    "# Write a Python program to generate a series of unique random numbers "
   ]
  },
  {
   "cell_type": "code",
   "execution_count": 72,
   "metadata": {},
   "outputs": [
    {
     "name": "stdout",
     "output_type": "stream",
     "text": [
      "[27, 48, 33, 47, 41, 8, 26, 11, 2, 29, 42, 13, 18, 40, 34, 46, 45, 37, 49, 25, 7, 5, 35, 10, 32, 23, 44, 3, 43, 1, 14, 9, 6, 15, 36, 22, 24, 31, 30, 19, 28, 16, 38, 4, 12, 20, 39, 21, 17]\n"
     ]
    }
   ],
   "source": [
    "# Solution 1\n",
    "\n",
    "import random\n",
    "\n",
    "num_range = list(range(1, 50))\n",
    "random.shuffle(num_range)\n",
    "print(num_range)"
   ]
  },
  {
   "cell_type": "code",
   "execution_count": 74,
   "metadata": {},
   "outputs": [
    {
     "data": {
      "text/plain": [
       "[27, 60, 41, 26, 12, 11, 65, 19, 95, 43, 45, 48, 2, 35, 53, 89, 73, 46, 83, 40]"
      ]
     },
     "execution_count": 74,
     "metadata": {},
     "output_type": "execute_result"
    }
   ],
   "source": [
    "# Solution 2\n",
    "\n",
    "import random\n",
    "\n",
    "num_range = list(range(1, 100))\n",
    "random.sample(num_range, 20)"
   ]
  },
  {
   "cell_type": "markdown",
   "metadata": {},
   "source": [
    "## round up"
   ]
  },
  {
   "cell_type": "code",
   "execution_count": null,
   "metadata": {},
   "outputs": [],
   "source": [
    "# Problem\n",
    "\n",
    "# Write a Python function to round up a number to specified digits. "
   ]
  },
  {
   "cell_type": "code",
   "execution_count": 84,
   "metadata": {},
   "outputs": [
    {
     "name": "stdout",
     "output_type": "stream",
     "text": [
      "Original Number: 123.014275\n",
      "124\n",
      "123.1\n",
      "123.02\n",
      "123.015\n",
      "123.0143\n",
      "123.01428\n",
      "123.014275\n"
     ]
    }
   ],
   "source": [
    "# Solution\n",
    "\n",
    "import math\n",
    "\n",
    "def round_up(num, digit):\n",
    "    n = 10 ** (-digit)             # if digit = 2, n = .01\n",
    "    up = math.ceil(num/n) * n      # num/n -> 123.014275/.01 = 12301.4275 => ceil(12301.4275) -> 12302 || 12302 * .01 -> 123.02\n",
    "    return round(up, digit)        # Although we got answer above but if we don't use round function then in some cases upto something like '123.10000000000001' will be the output\n",
    "\n",
    "x = 123.014275\n",
    "print(\"Original Number:\", x)\n",
    "print(round_up(x, 0))\n",
    "print(round_up(x, 1))\n",
    "print(round_up(x, 2))\n",
    "print(round_up(x, 3))\n",
    "print(round_up(x, 4))\n",
    "print(round_up(x, 5))\n",
    "print(round_up(x, 6))"
   ]
  },
  {
   "cell_type": "markdown",
   "metadata": {},
   "source": [
    "## standard deviation"
   ]
  },
  {
   "cell_type": "code",
   "execution_count": null,
   "metadata": {},
   "outputs": [],
   "source": [
    "# Problem\n",
    "\n",
    "# Write a Python program to calculate the standard deviation of the following data.\n",
    "\n",
    "# Input\n",
    "# Sample Data:  [4, 2, 5, 8, 6]                                                                                 \n",
    "\n",
    "# Output\n",
    "# Standard Deviation :  2.23606797749979"
   ]
  },
  {
   "cell_type": "code",
   "execution_count": 94,
   "metadata": {},
   "outputs": [
    {
     "name": "stdout",
     "output_type": "stream",
     "text": [
      "2.0\n",
      "14.1\n"
     ]
    }
   ],
   "source": [
    "# Solution\n",
    "\n",
    "# Algorithm and Logic behind below code: \n",
    "# https://www.hackerrank.com/challenges/s10-standard-deviation/problem\n",
    "\n",
    "def sd_calc(num):\n",
    "    mean = sum(num) / len(num)\n",
    "    sum_ = 0\n",
    "    \n",
    "    for i in num:\n",
    "        distance_from_mean = i - mean\n",
    "        sum_ += distance_from_mean ** 2\n",
    "    \n",
    "    sd = (sum_ / len(num)) ** .5\n",
    "    return round(sd, 1)\n",
    "\n",
    "print(sd_calc([4, 2, 5, 8, 6]))\n",
    "print(sd_calc([10, 40, 30, 50, 20]))"
   ]
  },
  {
   "cell_type": "markdown",
   "metadata": {},
   "source": [
    "### [Move to Top](#Table-of-Contents---Math)"
   ]
  },
  {
   "cell_type": "markdown",
   "metadata": {},
   "source": [
    "### <center> The End </center>"
   ]
  }
 ],
 "metadata": {
  "kernelspec": {
   "display_name": "Python 3",
   "language": "python",
   "name": "python3"
  },
  "language_info": {
   "codemirror_mode": {
    "name": "ipython",
    "version": 3
   },
   "file_extension": ".py",
   "mimetype": "text/x-python",
   "name": "python",
   "nbconvert_exporter": "python",
   "pygments_lexer": "ipython3",
   "version": "3.7.3"
  }
 },
 "nbformat": 4,
 "nbformat_minor": 2
}
