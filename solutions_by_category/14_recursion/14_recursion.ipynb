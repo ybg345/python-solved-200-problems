{
 "cells": [
  {
   "cell_type": "markdown",
   "metadata": {},
   "source": [
    "# Table of Contents - Recursion\n",
    "\n",
    "- [a power by b](#a-power-by-b)\n",
    "- [fibonaci](#fibonaci)\n",
    "- [fractorial](#fractorial)\n",
    "- [greatest gcd](#greatest-gcd)\n",
    "- [sum of list](#sum-of-list)"
   ]
  },
  {
   "cell_type": "markdown",
   "metadata": {},
   "source": [
    "## a power by b"
   ]
  },
  {
   "cell_type": "code",
   "execution_count": null,
   "metadata": {},
   "outputs": [],
   "source": [
    "# Problem\n",
    "\n",
    "# Write a Python program to calculate the value of 'a' to the power 'b'. "
   ]
  },
  {
   "cell_type": "code",
   "execution_count": 4,
   "metadata": {},
   "outputs": [
    {
     "name": "stdout",
     "output_type": "stream",
     "text": [
      "81\n",
      "2048\n",
      "125\n"
     ]
    }
   ],
   "source": [
    "# Solution\n",
    "\n",
    "def power(a, b):\n",
    "    if a == 0:\n",
    "        return 0\n",
    "    \n",
    "    elif b == 0:\n",
    "        return 1\n",
    "    \n",
    "    elif b == 1:\n",
    "        return a\n",
    "    \n",
    "    else:\n",
    "        return a * power(a, b - 1)\n",
    "\n",
    "print(power(3, 4))\n",
    "print(power(2, 11))\n",
    "print(power(5, 3))"
   ]
  },
  {
   "cell_type": "markdown",
   "metadata": {},
   "source": [
    "## fibonaci"
   ]
  },
  {
   "cell_type": "code",
   "execution_count": null,
   "metadata": {},
   "outputs": [],
   "source": [
    "# Problem\n",
    "\n",
    "# Write a Python program to solve the Fibonacci sequence using recursion. "
   ]
  },
  {
   "cell_type": "code",
   "execution_count": 15,
   "metadata": {},
   "outputs": [
    {
     "name": "stdout",
     "output_type": "stream",
     "text": [
      "13\n",
      "89\n",
      "233\n"
     ]
    }
   ],
   "source": [
    "# Solution\n",
    "\n",
    "def fibo(n):\n",
    "    if n == 1 or n == 2:\n",
    "        return 1\n",
    "    else:\n",
    "        return fibo(n - 1) + fibo(n - 2)\n",
    "    \n",
    "print(fibo(7))\n",
    "print(fibo(11))\n",
    "print(fibo(13))"
   ]
  },
  {
   "cell_type": "markdown",
   "metadata": {},
   "source": [
    "## fractorial"
   ]
  },
  {
   "cell_type": "code",
   "execution_count": null,
   "metadata": {},
   "outputs": [],
   "source": [
    "# Problem\n",
    "\n",
    "# Write a Python program to get the factorial of a non-negative integer.  "
   ]
  },
  {
   "cell_type": "code",
   "execution_count": 19,
   "metadata": {},
   "outputs": [
    {
     "name": "stdout",
     "output_type": "stream",
     "text": [
      "120\n",
      "6\n",
      "24\n"
     ]
    }
   ],
   "source": [
    "# Solution\n",
    "\n",
    "def factorial(n):\n",
    "    if n == 0:\n",
    "        return 1\n",
    "    else:\n",
    "        return n * factorial(n - 1)\n",
    "    \n",
    "print(factorial(5))\n",
    "print(factorial(3))\n",
    "print(factorial(4))"
   ]
  },
  {
   "cell_type": "markdown",
   "metadata": {},
   "source": [
    "## greatest gcd"
   ]
  },
  {
   "cell_type": "code",
   "execution_count": null,
   "metadata": {},
   "outputs": [],
   "source": [
    "# Problem\n",
    "\n",
    "# Write a Python program to find the greatest common divisor (gcd) of two integers. "
   ]
  },
  {
   "cell_type": "code",
   "execution_count": null,
   "metadata": {},
   "outputs": [],
   "source": [
    "# Solution\n",
    "\n"
   ]
  },
  {
   "cell_type": "markdown",
   "metadata": {},
   "source": [
    "## sum of list"
   ]
  },
  {
   "cell_type": "code",
   "execution_count": null,
   "metadata": {},
   "outputs": [],
   "source": [
    "# Problem\n",
    "\n",
    "# Write a Python program to calculate the sum of a list of numbers. (in recursion fashion) "
   ]
  },
  {
   "cell_type": "code",
   "execution_count": 26,
   "metadata": {},
   "outputs": [
    {
     "name": "stdout",
     "output_type": "stream",
     "text": [
      "24\n",
      "2\n",
      "0\n",
      "55\n"
     ]
    }
   ],
   "source": [
    "# Solution\n",
    "\n",
    "def list_sum(l):\n",
    "    if len(l) == 0:\n",
    "        return 0\n",
    "    elif len(l) == 1:\n",
    "        return l[0]\n",
    "    else:\n",
    "        return l[0] + list_sum(l[1:])\n",
    "\n",
    "print(list_sum([2, 4, 5, 6, 7]))\n",
    "print(list_sum([2]))\n",
    "print(list_sum([]))\n",
    "print(list_sum([1, 2, 3, 4, 5, 10, 9, 8, 7, 6]))"
   ]
  },
  {
   "cell_type": "markdown",
   "metadata": {},
   "source": [
    "### [Move to Top](#Table-of-Contents---Recursion)"
   ]
  },
  {
   "cell_type": "markdown",
   "metadata": {},
   "source": [
    "### <center> The End </center>"
   ]
  }
 ],
 "metadata": {
  "kernelspec": {
   "display_name": "Python 3",
   "language": "python",
   "name": "python3"
  },
  "language_info": {
   "codemirror_mode": {
    "name": "ipython",
    "version": 3
   },
   "file_extension": ".py",
   "mimetype": "text/x-python",
   "name": "python",
   "nbconvert_exporter": "python",
   "pygments_lexer": "ipython3",
   "version": "3.7.3"
  }
 },
 "nbformat": 4,
 "nbformat_minor": 2
}
