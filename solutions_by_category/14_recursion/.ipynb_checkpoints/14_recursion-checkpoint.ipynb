{
 "cells": [
  {
   "cell_type": "markdown",
   "metadata": {},
   "source": [
    "# Table of Contents - Recursion\n",
    "\n",
    "- [a power by b](#a-power-by-b)\n",
    "- [fibonaci](#fibonaci)\n",
    "- [fractorial](#fractorial)\n",
    "- [greatest gcd](#greatest-gcd) (see again)\n",
    "- [sum of list](#sum-of-list) (see again)"
   ]
  },
  {
   "cell_type": "markdown",
   "metadata": {},
   "source": [
    "## a power by b"
   ]
  },
  {
   "cell_type": "code",
   "execution_count": null,
   "metadata": {},
   "outputs": [],
   "source": [
    "# Problem\n",
    "\n",
    "# Write a Python program to calculate the value of 'a' to the power 'b'. "
   ]
  },
  {
   "cell_type": "code",
   "execution_count": 4,
   "metadata": {},
   "outputs": [
    {
     "name": "stdout",
     "output_type": "stream",
     "text": [
      "81\n",
      "2048\n",
      "125\n"
     ]
    }
   ],
   "source": [
    "# Solution\n",
    "\n",
    "def power(a, b):\n",
    "    if a == 0:\n",
    "        return 0\n",
    "    \n",
    "    elif b == 0:\n",
    "        return 1\n",
    "    \n",
    "    elif b == 1:\n",
    "        return a\n",
    "    \n",
    "    else:\n",
    "        return a * power(a, b - 1)\n",
    "\n",
    "print(power(3, 4))\n",
    "print(power(2, 11))\n",
    "print(power(5, 3))"
   ]
  },
  {
   "cell_type": "markdown",
   "metadata": {},
   "source": [
    "## fibonaci"
   ]
  },
  {
   "cell_type": "code",
   "execution_count": null,
   "metadata": {},
   "outputs": [],
   "source": [
    "# Problem\n",
    "\n",
    "# Write a Python program to solve the Fibonacci sequence using recursion. "
   ]
  },
  {
   "cell_type": "code",
   "execution_count": 15,
   "metadata": {},
   "outputs": [
    {
     "name": "stdout",
     "output_type": "stream",
     "text": [
      "13\n",
      "89\n",
      "233\n"
     ]
    }
   ],
   "source": [
    "# Solution\n",
    "\n",
    "def fibo(n):\n",
    "    if n == 1 or n == 2:\n",
    "        return 1\n",
    "    else:\n",
    "        return fibo(n - 1) + fibo(n - 2)\n",
    "    \n",
    "print(fibo(7))\n",
    "print(fibo(11))\n",
    "print(fibo(13))"
   ]
  },
  {
   "cell_type": "markdown",
   "metadata": {},
   "source": [
    "## fractorial"
   ]
  },
  {
   "cell_type": "code",
   "execution_count": null,
   "metadata": {},
   "outputs": [],
   "source": [
    "# Problem\n",
    "\n",
    "# Write a Python program to get the factorial of a non-negative integer.  "
   ]
  },
  {
   "cell_type": "code",
   "execution_count": 19,
   "metadata": {},
   "outputs": [
    {
     "name": "stdout",
     "output_type": "stream",
     "text": [
      "120\n",
      "6\n",
      "24\n"
     ]
    }
   ],
   "source": [
    "# Solution\n",
    "\n",
    "def factorial(n):\n",
    "    if n == 0:\n",
    "        return 1\n",
    "    else:\n",
    "        return n * factorial(n - 1)\n",
    "    \n",
    "print(factorial(5))\n",
    "print(factorial(3))\n",
    "print(factorial(4))"
   ]
  },
  {
   "cell_type": "markdown",
   "metadata": {},
   "source": [
    "## greatest gcd"
   ]
  },
  {
   "cell_type": "code",
   "execution_count": null,
   "metadata": {},
   "outputs": [],
   "source": [
    "# Problem\n",
    "\n",
    "# Write a Python program to find the greatest common divisor (gcd) of two integers. "
   ]
  },
  {
   "cell_type": "markdown",
   "metadata": {},
   "source": [
    "### [Visualize Solution Step by Step](http://pythontutor.com/visualize.html#code=%23%20Solution%0A%0Adef%20greatest_gcd%28a,%20b%29%3A%0A%20%20%20%20low%20%3D%20min%28a,%20b%29%0A%20%20%20%20high%20%3D%20max%28a,%20b%29%0A%20%20%20%20%0A%20%20%20%20if%20low%20%3D%3D%200%3A%0A%20%20%20%20%20%20%20%20return%20high%0A%20%20%20%20elif%20low%20%3D%3D%201%3A%0A%20%20%20%20%20%20%20%20return%201%0A%20%20%20%20else%3A%0A%20%20%20%20%20%20%20%20return%20greatest_gcd%28low,%20high%20%25%20low%29%0A%20%20%20%20%0Aprint%28greatest_gcd%2814,%2012%29%29%0Aprint%28greatest_gcd%2833,%2058%29%29%0Aprint%28greatest_gcd%2811,%200%29%29%0Aprint%28greatest_gcd%280,%201%29%29&cumulative=false&curInstr=0&heapPrimitives=nevernest&mode=display&origin=opt-frontend.js&py=3&rawInputLstJSON=%5B%5D&textReferences=false)"
   ]
  },
  {
   "cell_type": "code",
   "execution_count": 34,
   "metadata": {},
   "outputs": [
    {
     "name": "stdout",
     "output_type": "stream",
     "text": [
      "2\n",
      "1\n",
      "11\n",
      "1\n"
     ]
    }
   ],
   "source": [
    "# Solution\n",
    "\n",
    "def greatest_gcd(a, b):\n",
    "    low = min(a, b)\n",
    "    high = max(a, b)\n",
    "    \n",
    "    if low == 0:\n",
    "        return high\n",
    "    elif low == 1:\n",
    "        return 1\n",
    "    else:\n",
    "        return greatest_gcd(low, high % low)\n",
    "    \n",
    "print(greatest_gcd(14, 12))\n",
    "print(greatest_gcd(33, 58))\n",
    "print(greatest_gcd(11, 0))\n",
    "print(greatest_gcd(0, 1))"
   ]
  },
  {
   "cell_type": "markdown",
   "metadata": {},
   "source": [
    "## sum of list"
   ]
  },
  {
   "cell_type": "code",
   "execution_count": null,
   "metadata": {},
   "outputs": [],
   "source": [
    "# Problem\n",
    "\n",
    "# Write a Python program to calculate the sum of a list of numbers. (in recursion fashion) "
   ]
  },
  {
   "cell_type": "markdown",
   "metadata": {},
   "source": [
    "### [Visualize Solution Step by Step](http://pythontutor.com/visualize.html#code=%23%20Solution%0A%0Adef%20list_sum%28l%29%3A%0A%20%20%20%20if%20len%28l%29%20%3D%3D%200%3A%0A%20%20%20%20%20%20%20%20return%200%0A%20%20%20%20elif%20len%28l%29%20%3D%3D%201%3A%0A%20%20%20%20%20%20%20%20return%20l%5B0%5D%0A%20%20%20%20else%3A%0A%20%20%20%20%20%20%20%20return%20l%5B0%5D%20%2B%20list_sum%28l%5B1%3A%5D%29%0A%0Aprint%28list_sum%28%5B2,%204,%205,%206,%207%5D%29%29%0Aprint%28list_sum%28%5B2%5D%29%29%0Aprint%28list_sum%28%5B%5D%29%29%0Aprint%28list_sum%28%5B1,%202,%203,%204,%205,%2010,%209,%208,%207,%206%5D%29%29&cumulative=false&curInstr=0&heapPrimitives=nevernest&mode=display&origin=opt-frontend.js&py=3&rawInputLstJSON=%5B%5D&textReferences=false)"
   ]
  },
  {
   "cell_type": "code",
   "execution_count": 26,
   "metadata": {},
   "outputs": [
    {
     "name": "stdout",
     "output_type": "stream",
     "text": [
      "24\n",
      "2\n",
      "0\n",
      "55\n"
     ]
    }
   ],
   "source": [
    "# Solution\n",
    "\n",
    "def list_sum(l):\n",
    "    if len(l) == 0:\n",
    "        return 0\n",
    "    elif len(l) == 1:\n",
    "        return l[0]\n",
    "    else:\n",
    "        return l[0] + list_sum(l[1:])\n",
    "\n",
    "print(list_sum([2, 4, 5, 6, 7]))\n",
    "print(list_sum([2]))\n",
    "print(list_sum([]))\n",
    "print(list_sum([1, 2, 3, 4, 5, 10, 9, 8, 7, 6]))"
   ]
  },
  {
   "cell_type": "markdown",
   "metadata": {},
   "source": [
    "### [Move to Top](#Table-of-Contents---Recursion)"
   ]
  },
  {
   "cell_type": "markdown",
   "metadata": {},
   "source": [
    "### <center> The End </center>"
   ]
  }
 ],
 "metadata": {
  "kernelspec": {
   "display_name": "Python 3",
   "language": "python",
   "name": "python3"
  },
  "language_info": {
   "codemirror_mode": {
    "name": "ipython",
    "version": 3
   },
   "file_extension": ".py",
   "mimetype": "text/x-python",
   "name": "python",
   "nbconvert_exporter": "python",
   "pygments_lexer": "ipython3",
   "version": "3.7.3"
  }
 },
 "nbformat": 4,
 "nbformat_minor": 2
}
