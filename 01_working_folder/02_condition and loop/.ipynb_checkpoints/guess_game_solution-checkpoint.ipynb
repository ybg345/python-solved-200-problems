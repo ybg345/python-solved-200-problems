{
 "cells": [
  {
   "cell_type": "code",
   "execution_count": 1,
   "metadata": {},
   "outputs": [
    {
     "name": "stdout",
     "output_type": "stream",
     "text": [
      "What's your guess?3\n",
      "Too high!\n",
      "What's your guess?2\n",
      "You got it!\n",
      "And it only took you 2 tries!\n"
     ]
    }
   ],
   "source": [
    "# Generate a random number between 1 and 9 (including 1 and 9).\n",
    "# Ask the user to guess the number, then tell them whether they guessed too low, too high, or exactly right.\n",
    "\n",
    "import random\n",
    "\n",
    "number = random.randint(1,9)\n",
    "guess = 0\n",
    "count = 0\n",
    "\n",
    "\n",
    "while guess != number and guess != \"exit\":\n",
    "    guess = input(\"What's your guess?\")\n",
    "    \n",
    "    if guess == \"exit\":\n",
    "        break\n",
    "    \n",
    "    guess = int(guess)\n",
    "    count += 1\n",
    "    \n",
    "    if guess < number:\n",
    "        print(\"Too low!\")\n",
    "    elif guess > number:\n",
    "        print(\"Too high!\")\n",
    "    else:\n",
    "        print(\"You got it!\")\n",
    "        print(\"And it only took you\",count,\"tries!\")"
   ]
  },
  {
   "cell_type": "code",
   "execution_count": 2,
   "metadata": {},
   "outputs": [
    {
     "name": "stdout",
     "output_type": "stream",
     "text": [
      "Guess and input the auto generated number:4\n",
      "Too low\n",
      "Guess the number again:7\n",
      "Too high\n",
      "Guess the number again:5\n",
      "Too low\n",
      "Guess the number again:6\n",
      "Exactly right! Auto generated number: 6 & User guessed number: 6\n",
      "You guessed correct number in 4 tries\n"
     ]
    }
   ],
   "source": [
    "import random\n",
    "\n",
    "auto_num = random.randint(1, 9)\n",
    "user_num = int(input('Guess and input the auto generated number:'))\n",
    "count = 0\n",
    "\n",
    "while True:\n",
    "    count += 1\n",
    "    if user_num < auto_num:\n",
    "        print('Too low')\n",
    "        user_num = int(input('Guess the number again:'))\n",
    "    elif user_num > auto_num:\n",
    "        print('Too high')\n",
    "        user_num = int(input('Guess the number again:'))        \n",
    "    else:\n",
    "        print('Exactly right! Auto generated number: {} & User guessed number: {}'.format(auto_num, user_num))\n",
    "        print('You guessed correct number in {} tries'.format(count))\n",
    "        break"
   ]
  },
  {
   "cell_type": "code",
   "execution_count": null,
   "metadata": {},
   "outputs": [],
   "source": []
  }
 ],
 "metadata": {
  "kernelspec": {
   "display_name": "Python 3",
   "language": "python",
   "name": "python3"
  },
  "language_info": {
   "codemirror_mode": {
    "name": "ipython",
    "version": 3
   },
   "file_extension": ".py",
   "mimetype": "text/x-python",
   "name": "python",
   "nbconvert_exporter": "python",
   "pygments_lexer": "ipython3",
   "version": "3.7.3"
  }
 },
 "nbformat": 4,
 "nbformat_minor": 2
}
