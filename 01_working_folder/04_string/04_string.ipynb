{
 "cells": [
  {
   "cell_type": "markdown",
   "metadata": {},
   "source": [
    "# Table of contents - String\n",
    "\n",
    "- **[Ceaser Encryption](#Ceaser-Encryption)**\n",
    "- [Character Exchange](#Character-Exchange)  (See again)\n",
    "- [Count Character](#Count-Character)\n",
    "- [HTML tag](#HTML-tag)\n",
    "- [Longest Word](#Longest-Word)\n",
    "- [Remove nth Character](#Remove-nth-Character)\n",
    "- [Revert Word in String](#Revert-Word-in-String)\n",
    "- [String Length](#String-Length)\n",
    "- [Unique Word](#Unique-Word)\n",
    "- [Word Count](#Word-Count)"
   ]
  },
  {
   "cell_type": "markdown",
   "metadata": {},
   "source": [
    "## Ceaser Encryption"
   ]
  },
  {
   "cell_type": "code",
   "execution_count": null,
   "metadata": {},
   "outputs": [],
   "source": [
    "# Problem\n",
    "\n",
    "# Write a Python program to create a Caesar encryption\n",
    "# Note : In cryptography, a Caesar cipher, also known as Caesar's cipher, the shift cipher, Caesar's code or Caesar shift, is one of the simplest and most widely known encryption techniques.\n",
    "# It is a type of substitution cipher in which each letter in the plaintext is replaced by a letter some fixed number of positions down the alphabet.\n",
    "# For example, with a left shift of 3, D would be replaced by A, E would become B, and so on.\n",
    "# The method is named after Julius Caesar, who used it in his private correspondence.\n",
    "# plaintext:  defend the east wall of the castle\n",
    "# ciphertext: efgfoe uif fbtu xbmm pg uif dbtumf"
   ]
  },
  {
   "cell_type": "code",
   "execution_count": 5,
   "metadata": {},
   "outputs": [
    {
     "name": "stdout",
     "output_type": "stream",
     "text": [
      "efgfoe uif fbtu xbmm pg uif dbtumf"
     ]
    }
   ],
   "source": [
    "# Solution\n",
    "\n",
    "def ceaser_cipher(txt, step):\n",
    "    for i in txt:\n",
    "        if i != chr(32):\n",
    "            asci_plus_increment = ord(i) + step\n",
    "            print(chr(asci_plus_increment), end = '')\n",
    "        else:\n",
    "            print(end = ' ')\n",
    "        \n",
    "ceaser_cipher('defend the east wall of the castle', 1)"
   ]
  },
  {
   "cell_type": "markdown",
   "metadata": {},
   "source": [
    "## Character Exchange"
   ]
  },
  {
   "cell_type": "code",
   "execution_count": null,
   "metadata": {},
   "outputs": [],
   "source": [
    "# Problem\n",
    "\n",
    "# Write a Python program to change a given string to a new string where the first and last chars have been exchanged"
   ]
  },
  {
   "cell_type": "code",
   "execution_count": 13,
   "metadata": {},
   "outputs": [
    {
     "name": "stdout",
     "output_type": "stream",
     "text": [
      "iehedm\n",
      "923456781\n"
     ]
    }
   ],
   "source": [
    "# Solution\n",
    "\n",
    "def swap(s1):\n",
    "    return s1[-1:] + s1[1:-1] + s1[0]\n",
    "\n",
    "print(swap('mehedi'))\n",
    "print(swap('123456789'))"
   ]
  },
  {
   "cell_type": "markdown",
   "metadata": {},
   "source": [
    "## Count Character"
   ]
  },
  {
   "cell_type": "code",
   "execution_count": null,
   "metadata": {},
   "outputs": [],
   "source": [
    "# Problem\n",
    "\n",
    "# Write a Python program to count the number of characters (character frequency) in a string.\n",
    "# Sample String : google'\n",
    "# Expected Result : {'g': 2, 'o': 2, 'l': 1, 'e': 1}\n",
    "\n",
    "# Solutions Reference: https://www.geeksforgeeks.org/python-frequency-of-each-character-in-string/"
   ]
  },
  {
   "cell_type": "code",
   "execution_count": 5,
   "metadata": {},
   "outputs": [
    {
     "name": "stdout",
     "output_type": "stream",
     "text": [
      "Counter({'g': 2, 'o': 2, 'l': 1, 'e': 1})\n"
     ]
    }
   ],
   "source": [
    "# Solution1\n",
    "\n",
    "from collections import Counter\n",
    "str1 = 'google'\n",
    "print(Counter(str1))"
   ]
  },
  {
   "cell_type": "code",
   "execution_count": 9,
   "metadata": {},
   "outputs": [
    {
     "name": "stdout",
     "output_type": "stream",
     "text": [
      "{'e': 1, 'l': 1, 'g': 2, 'o': 2}\n"
     ]
    }
   ],
   "source": [
    "# Solution2\n",
    "\n",
    "str1 = 'google'\n",
    "res = {i : str1.count(i) for i in set(str1)}  # using set() + count() to get count of each element in string  \n",
    "print(res)\n",
    "\n",
    "# set(str1) returns a list of all the unique characters in a string.\n",
    "# str1.count('g') => 2, returns the count of 'g' within string 'google'"
   ]
  },
  {
   "cell_type": "code",
   "execution_count": 14,
   "metadata": {},
   "outputs": [
    {
     "data": {
      "text/plain": [
       "{'g': 2, 'o': 2, 'l': 1, 'e': 1}"
      ]
     },
     "execution_count": 14,
     "metadata": {},
     "output_type": "execute_result"
    }
   ],
   "source": [
    "# Solution 3:\n",
    "\n",
    "def char_frequency(str1):\n",
    "    all_freq = {}\n",
    "    for i in str1:\n",
    "        if i in all_freq:\n",
    "            all_freq[i] += 1\n",
    "        else:\n",
    "            all_freq[i] = 1\n",
    "            \n",
    "    return all_freq\n",
    "\n",
    "char_frequency('google')"
   ]
  },
  {
   "cell_type": "markdown",
   "metadata": {},
   "source": [
    "## HTML tag"
   ]
  },
  {
   "cell_type": "code",
   "execution_count": null,
   "metadata": {},
   "outputs": [],
   "source": [
    "# Problem\n",
    "\n",
    "# Write a Python function to create the HTML string with tags around the word(s).\n",
    "# Sample function and result : \n",
    "# add_tags('i', 'Python') -> '<i>Python</i>'\n",
    "# add_tags('b', 'Python Tutorial') -> '<b>Python Tutorial </b>'"
   ]
  },
  {
   "cell_type": "code",
   "execution_count": 4,
   "metadata": {},
   "outputs": [
    {
     "name": "stdout",
     "output_type": "stream",
     "text": [
      "<i>Python</i>\n",
      "<b>Python Tutorial</b>\n"
     ]
    }
   ],
   "source": [
    "# Solution\n",
    "\n",
    "def add_tags(tag, string):\n",
    "    return '<'+tag+'>'+string+'</'+tag+'>'\n",
    "\n",
    "print(add_tags('i', 'Python'))\n",
    "print(add_tags('b', 'Python Tutorial'))"
   ]
  },
  {
   "cell_type": "markdown",
   "metadata": {},
   "source": [
    "## Longest Word"
   ]
  },
  {
   "cell_type": "code",
   "execution_count": null,
   "metadata": {},
   "outputs": [],
   "source": [
    "# Problem\n",
    "\n",
    "# Write a Python function that takes a list of words and returns the length of the longest one"
   ]
  },
  {
   "cell_type": "code",
   "execution_count": 22,
   "metadata": {},
   "outputs": [
    {
     "name": "stdout",
     "output_type": "stream",
     "text": [
      "Exercises\n",
      "JavaScript\n",
      "Longest\n"
     ]
    }
   ],
   "source": [
    "# Solution\n",
    "\n",
    "def find_longest_word(word_list):\n",
    "    maximum = word_list[0]\n",
    "    for i in range(1, len(word_list)):\n",
    "        if len(maximum) < len(word_list[i]):\n",
    "            maximum = word_list[i]\n",
    "        maximum = maximum\n",
    "    return maximum\n",
    "    \n",
    "print(find_longest_word([\"PHP\", \"Exercises\", \"Backend\"]))\n",
    "print(find_longest_word([\"Python\", \"JavaScript\", \"C++\"]))\n",
    "print(find_longest_word([\"find\", \"word\", \"Longest\"]))"
   ]
  },
  {
   "cell_type": "markdown",
   "metadata": {},
   "source": [
    "## Remove nth Character"
   ]
  },
  {
   "cell_type": "code",
   "execution_count": null,
   "metadata": {},
   "outputs": [],
   "source": [
    "# Problem\n",
    "\n",
    "# Write a Python program to remove the nth index character from a nonempty string "
   ]
  },
  {
   "cell_type": "code",
   "execution_count": 34,
   "metadata": {},
   "outputs": [
    {
     "name": "stdout",
     "output_type": "stream",
     "text": [
      "Pyhon\n",
      "NonEmpty\n",
      "Empty String! Unable to remove character.\n"
     ]
    }
   ],
   "source": [
    "# Solution\n",
    "\n",
    "def remove_char(string, index):\n",
    "    if len(string) != 0:\n",
    "        return string.replace(string[index], '')\n",
    "    else:\n",
    "        return 'Empty String! Unable to remove character.'\n",
    "        \n",
    "print(remove_char('Python', 2))\n",
    "print(remove_char('Non-Empty', 3))\n",
    "print(remove_char('', 1))"
   ]
  },
  {
   "cell_type": "code",
   "execution_count": 36,
   "metadata": {},
   "outputs": [
    {
     "name": "stdout",
     "output_type": "stream",
     "text": [
      "ython\n",
      "Pyton\n",
      "Pytho\n"
     ]
    }
   ],
   "source": [
    "# Official Solution:\n",
    "\n",
    "def remove_char(str, n):\n",
    "      first_part = str[:n] \n",
    "      last_part = str[n+1:]\n",
    "      return first_part + last_part\n",
    "    \n",
    "print(remove_char('Python', 0))\n",
    "print(remove_char('Python', 3))\n",
    "print(remove_char('Python', 5))"
   ]
  },
  {
   "cell_type": "markdown",
   "metadata": {},
   "source": [
    "## Revert Word in String"
   ]
  },
  {
   "cell_type": "code",
   "execution_count": null,
   "metadata": {},
   "outputs": [],
   "source": [
    "# Problem\n",
    "\n",
    "# 'The quick brown fox jumps over the lazy dog.'\n",
    "# input : \"The quick brown fox jumps over the lazy dog.\"\n",
    "# output : \"dog. lazy the over jumps fox brown quick The \""
   ]
  },
  {
   "cell_type": "code",
   "execution_count": 81,
   "metadata": {},
   "outputs": [
    {
     "name": "stdout",
     "output_type": "stream",
     "text": [
      " dog. lazy the over jumps fox brown quick The\n",
      "Exercises. Python\n"
     ]
    }
   ],
   "source": [
    "# Solution\n",
    "\n",
    "def revert_str_words(string):\n",
    "    word = string.split()\n",
    "    output = \"\"\n",
    "    for i in range(len(word)-1, -1, -1):\n",
    "        output = output + \" \" + word[i]\n",
    "    return output\n",
    "        \n",
    "print(revert_str_words('The quick brown fox jumps over the lazy dog.'))\n",
    "print(reverse_string_words(\"Python Exercises.\"))"
   ]
  },
  {
   "cell_type": "code",
   "execution_count": 82,
   "metadata": {},
   "outputs": [
    {
     "name": "stdout",
     "output_type": "stream",
     "text": [
      "dog. lazy the over jumps fox brown quick The\n",
      "Exercises. Python\n"
     ]
    }
   ],
   "source": [
    "# Official Solution:\n",
    "\n",
    "def reverse_string_words(text):\n",
    "    for line in text.split('\\n'):\n",
    "        return(' '.join(line.split()[::-1]))\n",
    "    \n",
    "print(reverse_string_words(\"The quick brown fox jumps over the lazy dog.\"))\n",
    "print(reverse_string_words(\"Python Exercises.\"))"
   ]
  },
  {
   "cell_type": "markdown",
   "metadata": {},
   "source": [
    "## String Length"
   ]
  },
  {
   "cell_type": "code",
   "execution_count": null,
   "metadata": {},
   "outputs": [],
   "source": [
    "# Problem\n",
    "\n",
    "# Write a Python program to calculate the length of a string."
   ]
  },
  {
   "cell_type": "code",
   "execution_count": 16,
   "metadata": {},
   "outputs": [
    {
     "data": {
      "text/plain": [
       "11"
      ]
     },
     "execution_count": 16,
     "metadata": {},
     "output_type": "execute_result"
    }
   ],
   "source": [
    "# Solution\n",
    "\n",
    "def str_length(str1):\n",
    "    count = 0\n",
    "    for char in str1:\n",
    "        count += 1\n",
    "    return count\n",
    "\n",
    "str_length('Hello World')"
   ]
  },
  {
   "cell_type": "code",
   "execution_count": 17,
   "metadata": {},
   "outputs": [
    {
     "name": "stdout",
     "output_type": "stream",
     "text": [
      "11\n",
      "44\n"
     ]
    }
   ],
   "source": [
    "# Solution 2\n",
    "\n",
    "def str_length(str1):\n",
    "    return len(str1)\n",
    "\n",
    "print(string_length('Hello World'))\n",
    "print(string_length('The quick brown fox jumps over the lazy dog.'))"
   ]
  },
  {
   "cell_type": "markdown",
   "metadata": {},
   "source": [
    "## Unique Word"
   ]
  },
  {
   "cell_type": "code",
   "execution_count": null,
   "metadata": {},
   "outputs": [],
   "source": [
    "# Problem\n",
    "\n",
    "# Write a Python program that accepts a comma separated sequence of words as input and prints the unique words in sorted form (alphanumerically)\n",
    "# Sample Words : red, white, black, red, green, black\n",
    "# Expected Result : black, green, red, white,red"
   ]
  },
  {
   "cell_type": "code",
   "execution_count": null,
   "metadata": {},
   "outputs": [],
   "source": [
    "# Solution\n",
    "\n"
   ]
  },
  {
   "cell_type": "markdown",
   "metadata": {},
   "source": [
    "## Word Count"
   ]
  },
  {
   "cell_type": "code",
   "execution_count": null,
   "metadata": {},
   "outputs": [],
   "source": [
    "# Problem\n",
    "\n",
    "# Write a Python program to count the occurrences of each word in a given sentence."
   ]
  },
  {
   "cell_type": "code",
   "execution_count": null,
   "metadata": {},
   "outputs": [],
   "source": [
    "# Solution\n",
    "\n"
   ]
  },
  {
   "cell_type": "markdown",
   "metadata": {},
   "source": [
    "## [Move to Top](#Table-of-contents---String)"
   ]
  },
  {
   "cell_type": "markdown",
   "metadata": {},
   "source": [
    "## <center> The END </center>"
   ]
  }
 ],
 "metadata": {
  "kernelspec": {
   "display_name": "Python 3",
   "language": "python",
   "name": "python3"
  },
  "language_info": {
   "codemirror_mode": {
    "name": "ipython",
    "version": 3
   },
   "file_extension": ".py",
   "mimetype": "text/x-python",
   "name": "python",
   "nbconvert_exporter": "python",
   "pygments_lexer": "ipython3",
   "version": "3.7.3"
  }
 },
 "nbformat": 4,
 "nbformat_minor": 2
}
