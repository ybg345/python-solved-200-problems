{
 "cells": [
  {
   "cell_type": "markdown",
   "metadata": {},
   "source": [
    "# Table of Contents:\n",
    "\n",
    "- **Problem 1:** [Print String](#Print-String) \n",
    "- **Problem 2:** [Input Age](#2.-Input-Age)\n",
    "- **Problem 3:** [Calculate with Input](#3.-Calculate-with-Input)  (See Again)"
   ]
  },
  {
   "cell_type": "markdown",
   "metadata": {},
   "source": [
    "## 1. Print String"
   ]
  },
  {
   "cell_type": "code",
   "execution_count": 2,
   "metadata": {},
   "outputs": [],
   "source": [
    "# Statement:\n",
    "# =========\n",
    "# Write a Python program to print the following string in a specific format (see the output).\n",
    "\n",
    "# Sample String : \"Twinkle, twinkle, little star, How I wonder what you are! Up above the world so high, Like a diamond in the sky. Twinkle, twinkle, little star, How I wonder what you are\" \n",
    "\n",
    "# Output :\n",
    "# Twinkle, twinkle, little star,\n",
    "#     How I wonder what you are! \n",
    "#         Up above the world so high,\n",
    "#         Like a diamond in the sky. \n",
    "# Twinkle, twinkle, little star, \n",
    "#     How I wonder what you are"
   ]
  },
  {
   "cell_type": "code",
   "execution_count": 8,
   "metadata": {},
   "outputs": [
    {
     "name": "stdout",
     "output_type": "stream",
     "text": [
      "\n",
      "Twinkle, twinkle, little star, \n",
      "\tHow I wonder what you are! \n",
      "\t\tUp above the world so high, \n",
      "\t\tLike a diamond in the sky. \n",
      "Twinkle, twinkle, little star, \n",
      "\tHow I wonder what you are\n",
      "\n"
     ]
    }
   ],
   "source": [
    "# Solutions:\n",
    "\n",
    "print(\"\"\"\n",
    "Twinkle, twinkle, little star, \n",
    "\\tHow I wonder what you are! \n",
    "\\t\\tUp above the world so high, \n",
    "\\t\\tLike a diamond in the sky. \n",
    "Twinkle, twinkle, little star, \n",
    "\\tHow I wonder what you are\n",
    "\"\"\")"
   ]
  },
  {
   "cell_type": "markdown",
   "metadata": {},
   "source": [
    "## 2. Input Age"
   ]
  },
  {
   "cell_type": "markdown",
   "metadata": {},
   "source": [
    "Create a program that asks the user to enter their name and their age. Print out a message addressed to them that tells them the year that they will turn 100 years old."
   ]
  },
  {
   "cell_type": "code",
   "execution_count": 29,
   "metadata": {},
   "outputs": [
    {
     "name": "stdout",
     "output_type": "stream",
     "text": [
      "Enter your name and age seperated by space: Mehedi 26\n",
      "Mehedi you will turn into 100 years old in the year 2094. Congratualtions!\n"
     ]
    }
   ],
   "source": [
    "# Solutions:\n",
    "\n",
    "current_year = 2020\n",
    "name, age = input('Enter your name and age seperated by space: ').split()\n",
    "print('{} you will turn into 100 years old in the year {}. Congratualtions!'.format(name, (current_year - int(age))+100))"
   ]
  },
  {
   "cell_type": "markdown",
   "metadata": {},
   "source": [
    "## 3. Calculate with Input"
   ]
  },
  {
   "cell_type": "markdown",
   "metadata": {},
   "source": [
    "Write a Python program that accepts an integer (n) and computes the value of n+nn+nnn. \n",
    "\n",
    "Sample value of n is 5  \n",
    "Expected Result : 615"
   ]
  },
  {
   "cell_type": "code",
   "execution_count": 37,
   "metadata": {},
   "outputs": [
    {
     "name": "stdout",
     "output_type": "stream",
     "text": [
      "5\n",
      "615\n"
     ]
    }
   ],
   "source": [
    "# Solutions:\n",
    "\n",
    "n = int(input())\n",
    "\n",
    "n1 = int('%s' % n)            # converted into integer. By default it is in string format.\n",
    "n2 = int('%s%s' % (n,n))\n",
    "n3 = int('%s%s%s' % (n,n,n))\n",
    "\n",
    "s = n1 + n2 + n3\n",
    "print(s)"
   ]
  },
  {
   "cell_type": "markdown",
   "metadata": {},
   "source": [
    "# <center> Basic Section End </center>"
   ]
  },
  {
   "cell_type": "markdown",
   "metadata": {},
   "source": [
    "[Move to Top](#Table-of-Contents:)"
   ]
  }
 ],
 "metadata": {
  "kernelspec": {
   "display_name": "Python 3",
   "language": "python",
   "name": "python3"
  },
  "language_info": {
   "codemirror_mode": {
    "name": "ipython",
    "version": 3
   },
   "file_extension": ".py",
   "mimetype": "text/x-python",
   "name": "python",
   "nbconvert_exporter": "python",
   "pygments_lexer": "ipython3",
   "version": "3.7.3"
  }
 },
 "nbformat": 4,
 "nbformat_minor": 2
}
