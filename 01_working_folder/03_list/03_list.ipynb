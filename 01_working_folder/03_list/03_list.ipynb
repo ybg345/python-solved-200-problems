{
 "cells": [
  {
   "cell_type": "markdown",
   "metadata": {},
   "source": [
    "# Table of contents\n",
    "\n",
    "- [characters to string](#character-to-string)\n",
    "- [check a list contains sublist](#check-a-list-contains-sublist)  (See Again)\n",
    "- [common items](#common-items)\n",
    "- [diff between 2](#diff-between-2)\n",
    "- [find max](#find-max)\n",
    "- [frequency of elements](#frequency-of-elements)\n",
    "- [permutations](#premutations)\n",
    "- [remove duplicates](#remove-duplicates)\n",
    "- [second smallest](#second-smallest) (See Official Soln Again)\n",
    "- [sum list](#sum-list)"
   ]
  },
  {
   "cell_type": "markdown",
   "metadata": {},
   "source": [
    "## character to string"
   ]
  },
  {
   "cell_type": "code",
   "execution_count": null,
   "metadata": {},
   "outputs": [],
   "source": [
    "#### Problem:\n",
    "\n",
    "# Convert a list of characters into a string.\n",
    "\n",
    "# Input ['a', 'b', 'c', 'd']\n",
    "# Output abcd"
   ]
  },
  {
   "cell_type": "code",
   "execution_count": 6,
   "metadata": {},
   "outputs": [
    {
     "name": "stdout",
     "output_type": "stream",
     "text": [
      "abcd\n"
     ]
    }
   ],
   "source": [
    "# Solution:\n",
    "\n",
    "l = ['a', 'b', 'c', 'd']\n",
    "s = ''.join(l)\n",
    "print(s)"
   ]
  },
  {
   "cell_type": "markdown",
   "metadata": {},
   "source": [
    "## check a list contains sublist"
   ]
  },
  {
   "cell_type": "code",
   "execution_count": 4,
   "metadata": {},
   "outputs": [],
   "source": [
    "# Problem: Write a Python program to check whether a list contains a sublist.\n",
    "\n",
    "# Input\n",
    "# a = [2,4,3,5,7]\n",
    "# b = [4,3]\n",
    "# c = [3,7]\n",
    "# print(is_Sublist(a, b))\n",
    "# print(is_Sublist(a, c))\n",
    "\n",
    "# Output\n",
    "# True\n",
    "# False"
   ]
  },
  {
   "cell_type": "code",
   "execution_count": 5,
   "metadata": {},
   "outputs": [
    {
     "name": "stdout",
     "output_type": "stream",
     "text": [
      "True\n",
      "False\n"
     ]
    }
   ],
   "source": [
    "# Solution:\n",
    "\n",
    "def is_Sublist(ml, sl):\n",
    "    sub_list = False\n",
    "    \n",
    "    if sl == []:\n",
    "        sub_list = True\n",
    "        \n",
    "    elif sl == ml:\n",
    "        sub_list = True\n",
    "        \n",
    "    elif len(sl) < len(ml):\n",
    "        for i in range(len(ml)):\n",
    "            if ml[i] == sl[0]:\n",
    "                n = 1\n",
    "                while (n < len(sl)) and (ml[i+n] == sl[n]):\n",
    "                    n += 1\n",
    "                    \n",
    "                if n == len(sl):\n",
    "                    sub_list = True\n",
    "    else:\n",
    "        sub_list = False\n",
    "    \n",
    "    return sub_list\n",
    "\n",
    "\n",
    "a = [2,4,3,5,7]\n",
    "b = [4,3]\n",
    "c = [3,7]\n",
    "print(is_Sublist(a, b))\n",
    "print(is_Sublist(a, c))"
   ]
  },
  {
   "cell_type": "markdown",
   "metadata": {},
   "source": [
    "## common items"
   ]
  },
  {
   "cell_type": "code",
   "execution_count": null,
   "metadata": {},
   "outputs": [],
   "source": [
    "# Problem: Write a Python program to find common items from two lists.\n",
    "# input\n",
    "# color1 = \"Red\", \"Green\", \"Orange\", \"White\"\n",
    "# color2 = \"Black\", \"Green\", \"White\", \"Pink\"\n",
    "# output\n",
    "# {'Green', 'White'}"
   ]
  },
  {
   "cell_type": "code",
   "execution_count": 6,
   "metadata": {},
   "outputs": [
    {
     "name": "stdout",
     "output_type": "stream",
     "text": [
      "['Red', 'Green', 'White', 'Yellow']\n"
     ]
    }
   ],
   "source": [
    "# Solution:\n",
    "\n",
    "color1 = [\"Red\", \"Green\", \"Orange\", \"White\", \"Yellow\"]\n",
    "color2 = [\"Black\", \"Green\", \"White\", \"Pink\", \"Red\", \"Yellow\", \"Purple\"]\n",
    "color = []\n",
    "\n",
    "for i in range(len(color1)):\n",
    "    for j in range(len(color2)):\n",
    "        if color1[i] == color2[j]:\n",
    "            color.append(color1[i])\n",
    "\n",
    "print(color)"
   ]
  },
  {
   "cell_type": "code",
   "execution_count": 15,
   "metadata": {},
   "outputs": [
    {
     "name": "stdout",
     "output_type": "stream",
     "text": [
      "{'White', 'Green'}\n"
     ]
    }
   ],
   "source": [
    "# Official Solution:\n",
    "\n",
    "color1 = \"Red\", \"Green\", \"Orange\", \"White\"\n",
    "color2 = \"Black\", \"Green\", \"White\", \"Pink\"\n",
    "\n",
    "print(set(color1) & set(color2))"
   ]
  },
  {
   "cell_type": "markdown",
   "metadata": {},
   "source": [
    "## diff between 2"
   ]
  },
  {
   "cell_type": "code",
   "execution_count": null,
   "metadata": {},
   "outputs": [],
   "source": [
    "# Problem: Write a Python program to get the difference between the two lists.\n",
    "\n",
    "# Input \n",
    "# list1 = [1, 2, 3, 4]\n",
    "# list2 = [1, 2]\n",
    "\n",
    "# Output\n",
    "# [3,4]"
   ]
  },
  {
   "cell_type": "code",
   "execution_count": 17,
   "metadata": {},
   "outputs": [
    {
     "name": "stdout",
     "output_type": "stream",
     "text": [
      "[3, 4]\n"
     ]
    }
   ],
   "source": [
    "# Solution:\n",
    "\n",
    "list1 = [1, 2, 3, 4]\n",
    "list2 = [1, 2]\n",
    "\n",
    "print(list(set(list1) - set(list2)))"
   ]
  },
  {
   "cell_type": "markdown",
   "metadata": {},
   "source": [
    "## find max"
   ]
  },
  {
   "cell_type": "code",
   "execution_count": null,
   "metadata": {},
   "outputs": [],
   "source": [
    "# Problem: Write a Python program to get the smallest number from a list.\n",
    "\n",
    "# max_num_in_list([1, 2, -8, 0])\n",
    "\n",
    "# return 2"
   ]
  },
  {
   "cell_type": "code",
   "execution_count": 21,
   "metadata": {},
   "outputs": [
    {
     "data": {
      "text/plain": [
       "2"
      ]
     },
     "execution_count": 21,
     "metadata": {},
     "output_type": "execute_result"
    }
   ],
   "source": [
    "# Solution 1:\n",
    "\n",
    "def max_num_in_list(l):\n",
    "    return max(l)\n",
    "\n",
    "max_num_in_list([1, 2, -8, 0])"
   ]
  },
  {
   "cell_type": "code",
   "execution_count": 24,
   "metadata": {},
   "outputs": [
    {
     "data": {
      "text/plain": [
       "8"
      ]
     },
     "execution_count": 24,
     "metadata": {},
     "output_type": "execute_result"
    }
   ],
   "source": [
    "# Solution 2:\n",
    "\n",
    "def max_num_in_list(l):\n",
    "    maximum = l[0]\n",
    "    for i in range(1, len(l)):\n",
    "        if l[i] > maximum:\n",
    "            maximum = l[i]\n",
    "        maximum = maximum\n",
    "    return maximum\n",
    "\n",
    "max_num_in_list([1, 2, -8, 0, 8])"
   ]
  },
  {
   "cell_type": "code",
   "execution_count": 26,
   "metadata": {},
   "outputs": [
    {
     "data": {
      "text/plain": [
       "13"
      ]
     },
     "execution_count": 26,
     "metadata": {},
     "output_type": "execute_result"
    }
   ],
   "source": [
    "# Solution 3\n",
    "\n",
    "def max_num_list(l):\n",
    "    m = l[0]\n",
    "    for i in l:\n",
    "        if i > m:\n",
    "            m = i\n",
    "        m = i\n",
    "    return m\n",
    "\n",
    "max_num_in_list([1, 2, -8, 0, 11, 13])"
   ]
  },
  {
   "cell_type": "markdown",
   "metadata": {},
   "source": [
    "## frequency of elements"
   ]
  },
  {
   "cell_type": "code",
   "execution_count": null,
   "metadata": {},
   "outputs": [],
   "source": [
    "# Problem: Write a Python program to get the frequency of the elements in a list.\n",
    "\n",
    "# input\n",
    "# my_list = [10,10,10,10,20,20,20,20,40,40,50,50,30]\n",
    "# outout\n",
    "# {10: 4, 20: 4, 40: 2, 50: 2, 30: 1}"
   ]
  },
  {
   "cell_type": "code",
   "execution_count": null,
   "metadata": {},
   "outputs": [],
   "source": [
    "# Solution:\n",
    "\n"
   ]
  },
  {
   "cell_type": "markdown",
   "metadata": {},
   "source": [
    "## permutations"
   ]
  },
  {
   "cell_type": "code",
   "execution_count": null,
   "metadata": {},
   "outputs": [],
   "source": [
    "# Problem: Write a Python program to generate all permutations of a list in Python.\n",
    "\n",
    "# Input [1,2,3]\n",
    "# Output [(1, 2, 3), (1, 3, 2), (2, 1, 3), (2, 3, 1), (3, 1, 2), (3, 2, 1)]"
   ]
  },
  {
   "cell_type": "code",
   "execution_count": null,
   "metadata": {},
   "outputs": [],
   "source": [
    "# Solution:\n",
    "\n"
   ]
  },
  {
   "cell_type": "markdown",
   "metadata": {},
   "source": [
    "## remove duplicates"
   ]
  },
  {
   "cell_type": "code",
   "execution_count": null,
   "metadata": {},
   "outputs": [],
   "source": [
    "# Problem: # Write a Python program to remove duplicates from a list.\n",
    "\n",
    "# Input a = [10,20,30,20,10,50,60,40,80,50,40]\n",
    "# Output {40, 10, 80, 50, 20, 60, 30} "
   ]
  },
  {
   "cell_type": "code",
   "execution_count": null,
   "metadata": {},
   "outputs": [],
   "source": [
    "# Solution:\n",
    "\n"
   ]
  },
  {
   "cell_type": "markdown",
   "metadata": {},
   "source": [
    "## second smallest"
   ]
  },
  {
   "cell_type": "code",
   "execution_count": null,
   "metadata": {},
   "outputs": [],
   "source": [
    "# Problem: Write a Python program to find the second smallest number in a list.\n",
    "\n",
    "# input\n",
    "# second_smallest([1, 2, -8, -2, 0])\n",
    "# output\n",
    "# -2"
   ]
  },
  {
   "cell_type": "code",
   "execution_count": 19,
   "metadata": {},
   "outputs": [
    {
     "name": "stdout",
     "output_type": "stream",
     "text": [
      "-2\n",
      "-2\n",
      "-3\n"
     ]
    }
   ],
   "source": [
    "# Solution 1:\n",
    "\n",
    "def second_smallest(li):\n",
    "    li = set(li)\n",
    "    li = list(li)\n",
    "    return sorted(li)[1]\n",
    "\n",
    "print(second_smallest([1, 2, -8, -2, 0, -2]))\n",
    "print(second_smallest([1, 2, -8, -2, 0]))\n",
    "print(second_smallest([1, 1, 1, 2, -8, -2, 0, -3, -3, -3, 0]))"
   ]
  },
  {
   "cell_type": "code",
   "execution_count": 22,
   "metadata": {},
   "outputs": [
    {
     "name": "stdout",
     "output_type": "stream",
     "text": [
      "-2\n",
      "-2\n",
      "-3\n"
     ]
    }
   ],
   "source": [
    "# Solution 2 (official soln): Not clear to me\n",
    "\n",
    "def second_smallest(numbers):\n",
    "    a1, a2 = float('inf'), float('inf')\n",
    "    for x in numbers:\n",
    "        if x <= a1:\n",
    "            a1, a2 = x, a1\n",
    "        elif x < a2:\n",
    "            a2 = x\n",
    "    return a2\n",
    "\n",
    "print(second_smallest([1, 2, -8, -2, 0, -2]))\n",
    "print(second_smallest([1, 2, -8, -2, 0]))\n",
    "print(second_smallest([1, 1, 1, 2, -8, -2, 0, -3, -3, -3, 0]))"
   ]
  },
  {
   "cell_type": "markdown",
   "metadata": {},
   "source": [
    "## sum list"
   ]
  },
  {
   "cell_type": "code",
   "execution_count": null,
   "metadata": {},
   "outputs": [],
   "source": [
    "# Problem: Write a Python program to sum all the items in a list.\n",
    "\n",
    "# Example sum_list([1,2,-8])\n",
    "# Return -5"
   ]
  },
  {
   "cell_type": "code",
   "execution_count": 4,
   "metadata": {},
   "outputs": [
    {
     "data": {
      "text/plain": [
       "-5"
      ]
     },
     "execution_count": 4,
     "metadata": {},
     "output_type": "execute_result"
    }
   ],
   "source": [
    "# Solution:\n",
    "\n",
    "def sum_list(li):\n",
    "    s = 0\n",
    "    for i in range(len(li)):\n",
    "        s += li[i]\n",
    "    return s\n",
    "        \n",
    "sum_list([1,2,-8])"
   ]
  },
  {
   "cell_type": "markdown",
   "metadata": {},
   "source": [
    "## [Move to Top](#Table-of-contents)"
   ]
  },
  {
   "cell_type": "markdown",
   "metadata": {},
   "source": [
    "## <center> The END </center>"
   ]
  }
 ],
 "metadata": {
  "kernelspec": {
   "display_name": "Python 3",
   "language": "python",
   "name": "python3"
  },
  "language_info": {
   "codemirror_mode": {
    "name": "ipython",
    "version": 3
   },
   "file_extension": ".py",
   "mimetype": "text/x-python",
   "name": "python",
   "nbconvert_exporter": "python",
   "pygments_lexer": "ipython3",
   "version": "3.7.3"
  }
 },
 "nbformat": 4,
 "nbformat_minor": 2
}
